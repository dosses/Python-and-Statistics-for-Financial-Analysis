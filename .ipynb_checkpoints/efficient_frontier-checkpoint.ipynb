{
 "cells": [
  {
   "cell_type": "markdown",
   "metadata": {},
   "source": [
    "# The Efficient Frontier\n",
    "\n",
    "- **The Only Free Lunch in Finance is Diversification**. If we look at two asset portfolio, as long as the two weights are non-zero and the correlation between the two assets are less than 1, the volatility of the portfolio will always be less than the weighted average volatilities of the two assets.\n",
    "\n",
    "The objective of this notebook is to compute the efficient frontier when we have a set of expected returns, volatilities (or variances) and correlations (or covariances). It's a fair question as to how we can get these numbers for the future, but for now, we'll assume that historic returns are a reasonable estimate.\n",
    "\n",
    "- The efficient frontier represents the portfolios that offer the lowest volatility for a given level of return (or highest expected return for a given level of volatility).\n",
    "- In practice it is a lot harder to identify portfolios on the efficient frontier.\n",
    "- Markowitz analysis is hardly used in practice since it tends to yield unreasonable corner solutions. Model carries a high estimation risk/error.\n",
    "- To reduce estimation errors - we can construct Equal-weight (EW) or Global-Minimum-Volatility (GMV) portfolios."
   ]
  },
  {
   "cell_type": "markdown",
   "metadata": {
    "toc": true
   },
   "source": [
    "<h1>Table of Contents<span class=\"tocSkip\"></span></h1>\n",
    "<div class=\"toc\"><ul class=\"toc-item\"><li><span><a href=\"#Import-and-explore-data\" data-toc-modified-id=\"Import-and-explore-data-1\"><span class=\"toc-item-num\">1&nbsp;&nbsp;</span>Import and explore data</a></span></li><li><span><a href=\"#Expected-Returns-and-the-Covariance-Matrix\" data-toc-modified-id=\"Expected-Returns-and-the-Covariance-Matrix-2\"><span class=\"toc-item-num\">2&nbsp;&nbsp;</span>Expected Returns and the Covariance Matrix</a></span></li><li><span><a href=\"#Portfolio-Return-and-Volatility\" data-toc-modified-id=\"Portfolio-Return-and-Volatility-3\"><span class=\"toc-item-num\">3&nbsp;&nbsp;</span>Portfolio Return and Volatility</a></span></li><li><span><a href=\"#Efficient-Frontier-(2-assets)\" data-toc-modified-id=\"Efficient-Frontier-(2-assets)-4\"><span class=\"toc-item-num\">4&nbsp;&nbsp;</span>Efficient Frontier (2 assets)</a></span></li><li><span><a href=\"#Efficient-Frontier-(multiple-assets)\" data-toc-modified-id=\"Efficient-Frontier-(multiple-assets)-5\"><span class=\"toc-item-num\">5&nbsp;&nbsp;</span>Efficient Frontier (multiple assets)</a></span></li><li><span><a href=\"#Finding-the-Max-Sharpe-Ratio-Portfolio\" data-toc-modified-id=\"Finding-the-Max-Sharpe-Ratio-Portfolio-6\"><span class=\"toc-item-num\">6&nbsp;&nbsp;</span>Finding the Max Sharpe Ratio Portfolio</a></span></li><li><span><a href=\"#Lack-of-Robustness-of-the-Markowitz-procedure-and-the-GMV-portfolio\" data-toc-modified-id=\"Lack-of-Robustness-of-the-Markowitz-procedure-and-the-GMV-portfolio-7\"><span class=\"toc-item-num\">7&nbsp;&nbsp;</span>Lack of Robustness of the Markowitz procedure and the GMV portfolio</a></span><ul class=\"toc-item\"><li><span><a href=\"#Avoiding-estimation-errors---Equal-Weight-Portfolio\" data-toc-modified-id=\"Avoiding-estimation-errors---Equal-Weight-Portfolio-7.1\"><span class=\"toc-item-num\">7.1&nbsp;&nbsp;</span>Avoiding estimation errors - Equal Weight Portfolio</a></span></li><li><span><a href=\"#Avoiding-estimation-errors---Global-Minimum-Volatility-(GMV)-portfolio\" data-toc-modified-id=\"Avoiding-estimation-errors---Global-Minimum-Volatility-(GMV)-portfolio-7.2\"><span class=\"toc-item-num\">7.2&nbsp;&nbsp;</span>Avoiding estimation errors - Global Minimum Volatility (GMV) portfolio</a></span></li></ul></li></ul></div>"
   ]
  },
  {
   "cell_type": "code",
   "execution_count": 1,
   "metadata": {},
   "outputs": [],
   "source": [
    "# Import modules\n",
    "import numpy as np\n",
    "import pandas as pd\n",
    "import matplotlib.pyplot as plt \n",
    "\n",
    "%matplotlib inline"
   ]
  },
  {
   "cell_type": "markdown",
   "metadata": {},
   "source": [
    "## Import and explore data\n",
    "Let's start by importing a dataset. We take the returns of 30 different industry portfolios, retrieved from Fama-French data library.\n",
    "\n",
    "Fama-French Data Library can be accessed through [here.](http://mba.tuck.dartmouth.edu/pages/faculty/ken.french/data_library.html)"
   ]
  },
  {
   "cell_type": "code",
   "execution_count": 2,
   "metadata": {},
   "outputs": [],
   "source": [
    "def get_ind_returns():\n",
    "    \"\"\"\n",
    "    Load and format the Ken French 30 Industry Portfolios Value Weighted Monthly Returns\n",
    "    \"\"\"\n",
    "    ind = pd.read_csv(\"data/ind30_m_vw_rets.csv\", header=0, index_col=0)/100\n",
    "    ind.index = pd.to_datetime(ind.index, format=\"%Y%m\").to_period('M')\n",
    "    ind.columns = ind.columns.str.strip()\n",
    "    return ind"
   ]
  },
  {
   "cell_type": "code",
   "execution_count": 3,
   "metadata": {},
   "outputs": [],
   "source": [
    "ind_rets = get_ind_returns()"
   ]
  },
  {
   "cell_type": "markdown",
   "metadata": {},
   "source": [
    "We have 1110 entries for 30 industries (monthly frequency), spanning from 1926-07 to 2018-12 (inclusive)."
   ]
  },
  {
   "cell_type": "code",
   "execution_count": 4,
   "metadata": {},
   "outputs": [
    {
     "name": "stdout",
     "output_type": "stream",
     "text": [
      "<class 'pandas.core.frame.DataFrame'>\n",
      "PeriodIndex: 1110 entries, 1926-07 to 2018-12\n",
      "Freq: M\n",
      "Data columns (total 30 columns):\n",
      "Food     1110 non-null float64\n",
      "Beer     1110 non-null float64\n",
      "Smoke    1110 non-null float64\n",
      "Games    1110 non-null float64\n",
      "Books    1110 non-null float64\n",
      "Hshld    1110 non-null float64\n",
      "Clths    1110 non-null float64\n",
      "Hlth     1110 non-null float64\n",
      "Chems    1110 non-null float64\n",
      "Txtls    1110 non-null float64\n",
      "Cnstr    1110 non-null float64\n",
      "Steel    1110 non-null float64\n",
      "FabPr    1110 non-null float64\n",
      "ElcEq    1110 non-null float64\n",
      "Autos    1110 non-null float64\n",
      "Carry    1110 non-null float64\n",
      "Mines    1110 non-null float64\n",
      "Coal     1110 non-null float64\n",
      "Oil      1110 non-null float64\n",
      "Util     1110 non-null float64\n",
      "Telcm    1110 non-null float64\n",
      "Servs    1110 non-null float64\n",
      "BusEq    1110 non-null float64\n",
      "Paper    1110 non-null float64\n",
      "Trans    1110 non-null float64\n",
      "Whlsl    1110 non-null float64\n",
      "Rtail    1110 non-null float64\n",
      "Meals    1110 non-null float64\n",
      "Fin      1110 non-null float64\n",
      "Other    1110 non-null float64\n",
      "dtypes: float64(30)\n",
      "memory usage: 268.8 KB\n"
     ]
    }
   ],
   "source": [
    "ind_rets.info() "
   ]
  },
  {
   "cell_type": "code",
   "execution_count": 5,
   "metadata": {
    "scrolled": true
   },
   "outputs": [
    {
     "data": {
      "text/html": [
       "<div>\n",
       "<style scoped>\n",
       "    .dataframe tbody tr th:only-of-type {\n",
       "        vertical-align: middle;\n",
       "    }\n",
       "\n",
       "    .dataframe tbody tr th {\n",
       "        vertical-align: top;\n",
       "    }\n",
       "\n",
       "    .dataframe thead th {\n",
       "        text-align: right;\n",
       "    }\n",
       "</style>\n",
       "<table border=\"1\" class=\"dataframe\">\n",
       "  <thead>\n",
       "    <tr style=\"text-align: right;\">\n",
       "      <th></th>\n",
       "      <th>Food</th>\n",
       "      <th>Beer</th>\n",
       "      <th>Smoke</th>\n",
       "      <th>Games</th>\n",
       "      <th>Books</th>\n",
       "      <th>Hshld</th>\n",
       "      <th>Clths</th>\n",
       "      <th>Hlth</th>\n",
       "      <th>Chems</th>\n",
       "      <th>Txtls</th>\n",
       "      <th>...</th>\n",
       "      <th>Telcm</th>\n",
       "      <th>Servs</th>\n",
       "      <th>BusEq</th>\n",
       "      <th>Paper</th>\n",
       "      <th>Trans</th>\n",
       "      <th>Whlsl</th>\n",
       "      <th>Rtail</th>\n",
       "      <th>Meals</th>\n",
       "      <th>Fin</th>\n",
       "      <th>Other</th>\n",
       "    </tr>\n",
       "  </thead>\n",
       "  <tbody>\n",
       "    <tr>\n",
       "      <td>1926-07</td>\n",
       "      <td>0.0056</td>\n",
       "      <td>-0.0519</td>\n",
       "      <td>0.0129</td>\n",
       "      <td>0.0293</td>\n",
       "      <td>0.1097</td>\n",
       "      <td>-0.0048</td>\n",
       "      <td>0.0808</td>\n",
       "      <td>0.0177</td>\n",
       "      <td>0.0814</td>\n",
       "      <td>0.0039</td>\n",
       "      <td>...</td>\n",
       "      <td>0.0083</td>\n",
       "      <td>0.0922</td>\n",
       "      <td>0.0206</td>\n",
       "      <td>0.0770</td>\n",
       "      <td>0.0193</td>\n",
       "      <td>-0.2379</td>\n",
       "      <td>0.0007</td>\n",
       "      <td>0.0187</td>\n",
       "      <td>0.0037</td>\n",
       "      <td>0.0520</td>\n",
       "    </tr>\n",
       "    <tr>\n",
       "      <td>1926-08</td>\n",
       "      <td>0.0259</td>\n",
       "      <td>0.2703</td>\n",
       "      <td>0.0650</td>\n",
       "      <td>0.0055</td>\n",
       "      <td>0.1001</td>\n",
       "      <td>-0.0358</td>\n",
       "      <td>-0.0251</td>\n",
       "      <td>0.0425</td>\n",
       "      <td>0.0550</td>\n",
       "      <td>0.0814</td>\n",
       "      <td>...</td>\n",
       "      <td>0.0217</td>\n",
       "      <td>0.0202</td>\n",
       "      <td>0.0439</td>\n",
       "      <td>-0.0238</td>\n",
       "      <td>0.0488</td>\n",
       "      <td>0.0539</td>\n",
       "      <td>-0.0075</td>\n",
       "      <td>-0.0013</td>\n",
       "      <td>0.0446</td>\n",
       "      <td>0.0676</td>\n",
       "    </tr>\n",
       "    <tr>\n",
       "      <td>1926-09</td>\n",
       "      <td>0.0116</td>\n",
       "      <td>0.0402</td>\n",
       "      <td>0.0126</td>\n",
       "      <td>0.0658</td>\n",
       "      <td>-0.0099</td>\n",
       "      <td>0.0073</td>\n",
       "      <td>-0.0051</td>\n",
       "      <td>0.0069</td>\n",
       "      <td>0.0533</td>\n",
       "      <td>0.0231</td>\n",
       "      <td>...</td>\n",
       "      <td>0.0241</td>\n",
       "      <td>0.0225</td>\n",
       "      <td>0.0019</td>\n",
       "      <td>-0.0554</td>\n",
       "      <td>0.0005</td>\n",
       "      <td>-0.0787</td>\n",
       "      <td>0.0025</td>\n",
       "      <td>-0.0056</td>\n",
       "      <td>-0.0123</td>\n",
       "      <td>-0.0386</td>\n",
       "    </tr>\n",
       "    <tr>\n",
       "      <td>1926-10</td>\n",
       "      <td>-0.0306</td>\n",
       "      <td>-0.0331</td>\n",
       "      <td>0.0106</td>\n",
       "      <td>-0.0476</td>\n",
       "      <td>0.0947</td>\n",
       "      <td>-0.0468</td>\n",
       "      <td>0.0012</td>\n",
       "      <td>-0.0057</td>\n",
       "      <td>-0.0476</td>\n",
       "      <td>0.0100</td>\n",
       "      <td>...</td>\n",
       "      <td>-0.0011</td>\n",
       "      <td>-0.0200</td>\n",
       "      <td>-0.0109</td>\n",
       "      <td>-0.0508</td>\n",
       "      <td>-0.0264</td>\n",
       "      <td>-0.1538</td>\n",
       "      <td>-0.0220</td>\n",
       "      <td>-0.0411</td>\n",
       "      <td>-0.0516</td>\n",
       "      <td>-0.0849</td>\n",
       "    </tr>\n",
       "    <tr>\n",
       "      <td>1926-11</td>\n",
       "      <td>0.0635</td>\n",
       "      <td>0.0729</td>\n",
       "      <td>0.0455</td>\n",
       "      <td>0.0166</td>\n",
       "      <td>-0.0580</td>\n",
       "      <td>-0.0054</td>\n",
       "      <td>0.0187</td>\n",
       "      <td>0.0542</td>\n",
       "      <td>0.0520</td>\n",
       "      <td>0.0311</td>\n",
       "      <td>...</td>\n",
       "      <td>0.0163</td>\n",
       "      <td>0.0377</td>\n",
       "      <td>0.0364</td>\n",
       "      <td>0.0384</td>\n",
       "      <td>0.0160</td>\n",
       "      <td>0.0467</td>\n",
       "      <td>0.0652</td>\n",
       "      <td>0.0433</td>\n",
       "      <td>0.0224</td>\n",
       "      <td>0.0400</td>\n",
       "    </tr>\n",
       "    <tr>\n",
       "      <td>...</td>\n",
       "      <td>...</td>\n",
       "      <td>...</td>\n",
       "      <td>...</td>\n",
       "      <td>...</td>\n",
       "      <td>...</td>\n",
       "      <td>...</td>\n",
       "      <td>...</td>\n",
       "      <td>...</td>\n",
       "      <td>...</td>\n",
       "      <td>...</td>\n",
       "      <td>...</td>\n",
       "      <td>...</td>\n",
       "      <td>...</td>\n",
       "      <td>...</td>\n",
       "      <td>...</td>\n",
       "      <td>...</td>\n",
       "      <td>...</td>\n",
       "      <td>...</td>\n",
       "      <td>...</td>\n",
       "      <td>...</td>\n",
       "      <td>...</td>\n",
       "    </tr>\n",
       "    <tr>\n",
       "      <td>2018-08</td>\n",
       "      <td>-0.0038</td>\n",
       "      <td>-0.0186</td>\n",
       "      <td>-0.0543</td>\n",
       "      <td>0.0289</td>\n",
       "      <td>-0.0447</td>\n",
       "      <td>0.0254</td>\n",
       "      <td>0.0526</td>\n",
       "      <td>0.0446</td>\n",
       "      <td>0.0001</td>\n",
       "      <td>0.0380</td>\n",
       "      <td>...</td>\n",
       "      <td>0.0295</td>\n",
       "      <td>0.0524</td>\n",
       "      <td>0.0993</td>\n",
       "      <td>-0.0034</td>\n",
       "      <td>0.0291</td>\n",
       "      <td>0.0366</td>\n",
       "      <td>0.0911</td>\n",
       "      <td>0.0364</td>\n",
       "      <td>0.0245</td>\n",
       "      <td>0.0299</td>\n",
       "    </tr>\n",
       "    <tr>\n",
       "      <td>2018-09</td>\n",
       "      <td>-0.0032</td>\n",
       "      <td>0.0019</td>\n",
       "      <td>0.0537</td>\n",
       "      <td>-0.0009</td>\n",
       "      <td>-0.0221</td>\n",
       "      <td>0.0107</td>\n",
       "      <td>0.0130</td>\n",
       "      <td>0.0199</td>\n",
       "      <td>-0.0287</td>\n",
       "      <td>-0.0638</td>\n",
       "      <td>...</td>\n",
       "      <td>0.0174</td>\n",
       "      <td>-0.0037</td>\n",
       "      <td>-0.0033</td>\n",
       "      <td>-0.0030</td>\n",
       "      <td>0.0105</td>\n",
       "      <td>-0.0148</td>\n",
       "      <td>0.0061</td>\n",
       "      <td>0.0251</td>\n",
       "      <td>-0.0193</td>\n",
       "      <td>0.0116</td>\n",
       "    </tr>\n",
       "    <tr>\n",
       "      <td>2018-10</td>\n",
       "      <td>0.0102</td>\n",
       "      <td>-0.0157</td>\n",
       "      <td>0.0790</td>\n",
       "      <td>-0.1596</td>\n",
       "      <td>-0.0666</td>\n",
       "      <td>-0.0051</td>\n",
       "      <td>-0.1014</td>\n",
       "      <td>-0.0884</td>\n",
       "      <td>-0.1250</td>\n",
       "      <td>-0.2579</td>\n",
       "      <td>...</td>\n",
       "      <td>-0.0050</td>\n",
       "      <td>-0.0920</td>\n",
       "      <td>-0.0806</td>\n",
       "      <td>-0.0982</td>\n",
       "      <td>-0.0975</td>\n",
       "      <td>-0.0788</td>\n",
       "      <td>-0.1021</td>\n",
       "      <td>-0.0171</td>\n",
       "      <td>-0.0545</td>\n",
       "      <td>-0.0599</td>\n",
       "    </tr>\n",
       "    <tr>\n",
       "      <td>2018-11</td>\n",
       "      <td>0.0272</td>\n",
       "      <td>0.0579</td>\n",
       "      <td>-0.0843</td>\n",
       "      <td>-0.0065</td>\n",
       "      <td>0.0325</td>\n",
       "      <td>0.0644</td>\n",
       "      <td>-0.0099</td>\n",
       "      <td>0.0632</td>\n",
       "      <td>0.0496</td>\n",
       "      <td>0.0292</td>\n",
       "      <td>...</td>\n",
       "      <td>0.0254</td>\n",
       "      <td>0.0129</td>\n",
       "      <td>-0.0505</td>\n",
       "      <td>0.0822</td>\n",
       "      <td>0.0617</td>\n",
       "      <td>0.0318</td>\n",
       "      <td>0.0159</td>\n",
       "      <td>0.0616</td>\n",
       "      <td>0.0289</td>\n",
       "      <td>0.0348</td>\n",
       "    </tr>\n",
       "    <tr>\n",
       "      <td>2018-12</td>\n",
       "      <td>-0.0973</td>\n",
       "      <td>-0.0969</td>\n",
       "      <td>-0.1580</td>\n",
       "      <td>-0.0824</td>\n",
       "      <td>-0.1535</td>\n",
       "      <td>-0.0557</td>\n",
       "      <td>-0.0728</td>\n",
       "      <td>-0.0840</td>\n",
       "      <td>-0.0776</td>\n",
       "      <td>-0.1009</td>\n",
       "      <td>...</td>\n",
       "      <td>-0.0884</td>\n",
       "      <td>-0.0765</td>\n",
       "      <td>-0.0923</td>\n",
       "      <td>-0.0863</td>\n",
       "      <td>-0.1519</td>\n",
       "      <td>-0.1121</td>\n",
       "      <td>-0.0919</td>\n",
       "      <td>-0.0628</td>\n",
       "      <td>-0.1144</td>\n",
       "      <td>-0.0693</td>\n",
       "    </tr>\n",
       "  </tbody>\n",
       "</table>\n",
       "<p>1110 rows × 30 columns</p>\n",
       "</div>"
      ],
      "text/plain": [
       "           Food    Beer   Smoke   Games   Books   Hshld   Clths    Hlth  \\\n",
       "1926-07  0.0056 -0.0519  0.0129  0.0293  0.1097 -0.0048  0.0808  0.0177   \n",
       "1926-08  0.0259  0.2703  0.0650  0.0055  0.1001 -0.0358 -0.0251  0.0425   \n",
       "1926-09  0.0116  0.0402  0.0126  0.0658 -0.0099  0.0073 -0.0051  0.0069   \n",
       "1926-10 -0.0306 -0.0331  0.0106 -0.0476  0.0947 -0.0468  0.0012 -0.0057   \n",
       "1926-11  0.0635  0.0729  0.0455  0.0166 -0.0580 -0.0054  0.0187  0.0542   \n",
       "...         ...     ...     ...     ...     ...     ...     ...     ...   \n",
       "2018-08 -0.0038 -0.0186 -0.0543  0.0289 -0.0447  0.0254  0.0526  0.0446   \n",
       "2018-09 -0.0032  0.0019  0.0537 -0.0009 -0.0221  0.0107  0.0130  0.0199   \n",
       "2018-10  0.0102 -0.0157  0.0790 -0.1596 -0.0666 -0.0051 -0.1014 -0.0884   \n",
       "2018-11  0.0272  0.0579 -0.0843 -0.0065  0.0325  0.0644 -0.0099  0.0632   \n",
       "2018-12 -0.0973 -0.0969 -0.1580 -0.0824 -0.1535 -0.0557 -0.0728 -0.0840   \n",
       "\n",
       "          Chems   Txtls  ...   Telcm   Servs   BusEq   Paper   Trans   Whlsl  \\\n",
       "1926-07  0.0814  0.0039  ...  0.0083  0.0922  0.0206  0.0770  0.0193 -0.2379   \n",
       "1926-08  0.0550  0.0814  ...  0.0217  0.0202  0.0439 -0.0238  0.0488  0.0539   \n",
       "1926-09  0.0533  0.0231  ...  0.0241  0.0225  0.0019 -0.0554  0.0005 -0.0787   \n",
       "1926-10 -0.0476  0.0100  ... -0.0011 -0.0200 -0.0109 -0.0508 -0.0264 -0.1538   \n",
       "1926-11  0.0520  0.0311  ...  0.0163  0.0377  0.0364  0.0384  0.0160  0.0467   \n",
       "...         ...     ...  ...     ...     ...     ...     ...     ...     ...   \n",
       "2018-08  0.0001  0.0380  ...  0.0295  0.0524  0.0993 -0.0034  0.0291  0.0366   \n",
       "2018-09 -0.0287 -0.0638  ...  0.0174 -0.0037 -0.0033 -0.0030  0.0105 -0.0148   \n",
       "2018-10 -0.1250 -0.2579  ... -0.0050 -0.0920 -0.0806 -0.0982 -0.0975 -0.0788   \n",
       "2018-11  0.0496  0.0292  ...  0.0254  0.0129 -0.0505  0.0822  0.0617  0.0318   \n",
       "2018-12 -0.0776 -0.1009  ... -0.0884 -0.0765 -0.0923 -0.0863 -0.1519 -0.1121   \n",
       "\n",
       "          Rtail   Meals     Fin   Other  \n",
       "1926-07  0.0007  0.0187  0.0037  0.0520  \n",
       "1926-08 -0.0075 -0.0013  0.0446  0.0676  \n",
       "1926-09  0.0025 -0.0056 -0.0123 -0.0386  \n",
       "1926-10 -0.0220 -0.0411 -0.0516 -0.0849  \n",
       "1926-11  0.0652  0.0433  0.0224  0.0400  \n",
       "...         ...     ...     ...     ...  \n",
       "2018-08  0.0911  0.0364  0.0245  0.0299  \n",
       "2018-09  0.0061  0.0251 -0.0193  0.0116  \n",
       "2018-10 -0.1021 -0.0171 -0.0545 -0.0599  \n",
       "2018-11  0.0159  0.0616  0.0289  0.0348  \n",
       "2018-12 -0.0919 -0.0628 -0.1144 -0.0693  \n",
       "\n",
       "[1110 rows x 30 columns]"
      ]
     },
     "execution_count": 5,
     "metadata": {},
     "output_type": "execute_result"
    }
   ],
   "source": [
    "ind_rets"
   ]
  },
  {
   "cell_type": "markdown",
   "metadata": {},
   "source": [
    "## Expected Returns and the Covariance Matrix\n",
    "\n",
    "Generating the `Efficient Frontier` requires a set of `Expected Returns` and a `Covariance Matrix`. For now, let's assume that we can estimate these simply by looking back in time and naively assuming they will hold in the future. Clearly, they will not, but for the moment, assume that our naive method of estimating these parameters will suffice.\n",
    "\n",
    "We can generate an estimate of expected returns using the `annualize_rets()` function, that returns a vector of expected returns."
   ]
  },
  {
   "cell_type": "code",
   "execution_count": 6,
   "metadata": {},
   "outputs": [],
   "source": [
    "def annualize_rets(r, periods_per_year):\n",
    "    \"\"\"\n",
    "    Annualizes a set of returns\n",
    "    Set of returns does not include NaN values.\n",
    "    \"\"\"\n",
    "    compounded_growth = (1+r).prod()\n",
    "    n_periods = r.shape[0]\n",
    "    return compounded_growth**(periods_per_year/n_periods)-1"
   ]
  },
  {
   "cell_type": "markdown",
   "metadata": {},
   "source": [
    "For instance, let's generate the set of expected returns based on historic returns from the 5 year period from 2014-01 through out 2018."
   ]
  },
  {
   "cell_type": "code",
   "execution_count": 7,
   "metadata": {},
   "outputs": [],
   "source": [
    "er = annualize_rets(ind_rets[\"2014\":\"2018\"], 12)"
   ]
  },
  {
   "cell_type": "code",
   "execution_count": 8,
   "metadata": {},
   "outputs": [
    {
     "data": {
      "text/plain": [
       "<matplotlib.axes._subplots.AxesSubplot at 0x1d090fe8400>"
      ]
     },
     "execution_count": 8,
     "metadata": {},
     "output_type": "execute_result"
    },
    {
     "data": {
      "image/png": "[encoded data removed]",
      "text/plain": [
       "<Figure size 432x288 with 1 Axes>"
      ]
     },
     "metadata": {
      "needs_background": "light"
     },
     "output_type": "display_data"
    }
   ],
   "source": [
    "er.sort_values().plot.bar()"
   ]
  },
  {
   "cell_type": "markdown",
   "metadata": {},
   "source": [
    "Finally, let's generate the Covariance Matrix. The `ovariance Matrix`is a symmetric matrix with variances along the diagonal and the product of the pairwise correlation and the individual volatilities (i.e. the covariance) on the off-diagonal entries."
   ]
  },
  {
   "cell_type": "code",
   "execution_count": 9,
   "metadata": {},
   "outputs": [
    {
     "data": {
      "text/plain": [
       "(30, 30)"
      ]
     },
     "execution_count": 9,
     "metadata": {},
     "output_type": "execute_result"
    }
   ],
   "source": [
    "cov = ind_rets[\"2014\":\"2018\"].cov()\n",
    "cov.shape"
   ]
  },
  {
   "cell_type": "code",
   "execution_count": 10,
   "metadata": {},
   "outputs": [
    {
     "data": {
      "text/html": [
       "<div>\n",
       "<style scoped>\n",
       "    .dataframe tbody tr th:only-of-type {\n",
       "        vertical-align: middle;\n",
       "    }\n",
       "\n",
       "    .dataframe tbody tr th {\n",
       "        vertical-align: top;\n",
       "    }\n",
       "\n",
       "    .dataframe thead th {\n",
       "        text-align: right;\n",
       "    }\n",
       "</style>\n",
       "<table border=\"1\" class=\"dataframe\">\n",
       "  <thead>\n",
       "    <tr style=\"text-align: right;\">\n",
       "      <th></th>\n",
       "      <th>Food</th>\n",
       "      <th>Beer</th>\n",
       "      <th>Smoke</th>\n",
       "      <th>Games</th>\n",
       "      <th>Books</th>\n",
       "      <th>Hshld</th>\n",
       "      <th>Clths</th>\n",
       "      <th>Hlth</th>\n",
       "      <th>Chems</th>\n",
       "      <th>Txtls</th>\n",
       "      <th>...</th>\n",
       "      <th>Telcm</th>\n",
       "      <th>Servs</th>\n",
       "      <th>BusEq</th>\n",
       "      <th>Paper</th>\n",
       "      <th>Trans</th>\n",
       "      <th>Whlsl</th>\n",
       "      <th>Rtail</th>\n",
       "      <th>Meals</th>\n",
       "      <th>Fin</th>\n",
       "      <th>Other</th>\n",
       "    </tr>\n",
       "  </thead>\n",
       "  <tbody>\n",
       "    <tr>\n",
       "      <td>Food</td>\n",
       "      <td>0.001049</td>\n",
       "      <td>0.000886</td>\n",
       "      <td>0.001137</td>\n",
       "      <td>0.000575</td>\n",
       "      <td>0.000877</td>\n",
       "      <td>0.000757</td>\n",
       "      <td>0.000578</td>\n",
       "      <td>0.000651</td>\n",
       "      <td>0.000746</td>\n",
       "      <td>0.000885</td>\n",
       "      <td>...</td>\n",
       "      <td>0.000806</td>\n",
       "      <td>0.000610</td>\n",
       "      <td>0.000644</td>\n",
       "      <td>0.000838</td>\n",
       "      <td>0.000676</td>\n",
       "      <td>0.000705</td>\n",
       "      <td>0.000840</td>\n",
       "      <td>5.960066e-04</td>\n",
       "      <td>0.000599</td>\n",
       "      <td>0.000697</td>\n",
       "    </tr>\n",
       "    <tr>\n",
       "      <td>Beer</td>\n",
       "      <td>0.000886</td>\n",
       "      <td>0.001158</td>\n",
       "      <td>0.001199</td>\n",
       "      <td>0.000372</td>\n",
       "      <td>0.000769</td>\n",
       "      <td>0.000807</td>\n",
       "      <td>0.000448</td>\n",
       "      <td>0.000677</td>\n",
       "      <td>0.000637</td>\n",
       "      <td>0.000939</td>\n",
       "      <td>...</td>\n",
       "      <td>0.000719</td>\n",
       "      <td>0.000567</td>\n",
       "      <td>0.000624</td>\n",
       "      <td>0.000836</td>\n",
       "      <td>0.000699</td>\n",
       "      <td>0.000550</td>\n",
       "      <td>0.000642</td>\n",
       "      <td>5.562742e-04</td>\n",
       "      <td>0.000424</td>\n",
       "      <td>0.000602</td>\n",
       "    </tr>\n",
       "    <tr>\n",
       "      <td>Smoke</td>\n",
       "      <td>0.001137</td>\n",
       "      <td>0.001199</td>\n",
       "      <td>0.002936</td>\n",
       "      <td>0.000257</td>\n",
       "      <td>0.000559</td>\n",
       "      <td>0.000913</td>\n",
       "      <td>0.000329</td>\n",
       "      <td>0.000403</td>\n",
       "      <td>0.000420</td>\n",
       "      <td>0.000321</td>\n",
       "      <td>...</td>\n",
       "      <td>0.000946</td>\n",
       "      <td>0.000433</td>\n",
       "      <td>0.000599</td>\n",
       "      <td>0.000758</td>\n",
       "      <td>0.000670</td>\n",
       "      <td>0.000414</td>\n",
       "      <td>0.000413</td>\n",
       "      <td>5.328949e-04</td>\n",
       "      <td>0.000327</td>\n",
       "      <td>0.000749</td>\n",
       "    </tr>\n",
       "    <tr>\n",
       "      <td>Games</td>\n",
       "      <td>0.000575</td>\n",
       "      <td>0.000372</td>\n",
       "      <td>0.000257</td>\n",
       "      <td>0.003193</td>\n",
       "      <td>0.001550</td>\n",
       "      <td>0.000322</td>\n",
       "      <td>0.000954</td>\n",
       "      <td>0.001263</td>\n",
       "      <td>0.001747</td>\n",
       "      <td>0.001758</td>\n",
       "      <td>...</td>\n",
       "      <td>0.000947</td>\n",
       "      <td>0.001790</td>\n",
       "      <td>0.001633</td>\n",
       "      <td>0.001183</td>\n",
       "      <td>0.001271</td>\n",
       "      <td>0.001202</td>\n",
       "      <td>0.001450</td>\n",
       "      <td>7.733721e-04</td>\n",
       "      <td>0.001248</td>\n",
       "      <td>0.000701</td>\n",
       "    </tr>\n",
       "    <tr>\n",
       "      <td>Books</td>\n",
       "      <td>0.000877</td>\n",
       "      <td>0.000769</td>\n",
       "      <td>0.000559</td>\n",
       "      <td>0.001550</td>\n",
       "      <td>0.002608</td>\n",
       "      <td>0.000812</td>\n",
       "      <td>0.001126</td>\n",
       "      <td>0.001349</td>\n",
       "      <td>0.001787</td>\n",
       "      <td>0.002160</td>\n",
       "      <td>...</td>\n",
       "      <td>0.001298</td>\n",
       "      <td>0.001136</td>\n",
       "      <td>0.001195</td>\n",
       "      <td>0.001555</td>\n",
       "      <td>0.001501</td>\n",
       "      <td>0.001572</td>\n",
       "      <td>0.001379</td>\n",
       "      <td>9.987197e-04</td>\n",
       "      <td>0.001575</td>\n",
       "      <td>0.001022</td>\n",
       "    </tr>\n",
       "    <tr>\n",
       "      <td>Hshld</td>\n",
       "      <td>0.000757</td>\n",
       "      <td>0.000807</td>\n",
       "      <td>0.000913</td>\n",
       "      <td>0.000322</td>\n",
       "      <td>0.000812</td>\n",
       "      <td>0.000974</td>\n",
       "      <td>0.000527</td>\n",
       "      <td>0.000670</td>\n",
       "      <td>0.000694</td>\n",
       "      <td>0.000865</td>\n",
       "      <td>...</td>\n",
       "      <td>0.000746</td>\n",
       "      <td>0.000488</td>\n",
       "      <td>0.000569</td>\n",
       "      <td>0.000820</td>\n",
       "      <td>0.000720</td>\n",
       "      <td>0.000609</td>\n",
       "      <td>0.000676</td>\n",
       "      <td>4.939002e-04</td>\n",
       "      <td>0.000497</td>\n",
       "      <td>0.000665</td>\n",
       "    </tr>\n",
       "    <tr>\n",
       "      <td>Clths</td>\n",
       "      <td>0.000578</td>\n",
       "      <td>0.000448</td>\n",
       "      <td>0.000329</td>\n",
       "      <td>0.000954</td>\n",
       "      <td>0.001126</td>\n",
       "      <td>0.000527</td>\n",
       "      <td>0.001694</td>\n",
       "      <td>0.000783</td>\n",
       "      <td>0.000789</td>\n",
       "      <td>0.001340</td>\n",
       "      <td>...</td>\n",
       "      <td>0.000680</td>\n",
       "      <td>0.000746</td>\n",
       "      <td>0.000672</td>\n",
       "      <td>0.000771</td>\n",
       "      <td>0.000922</td>\n",
       "      <td>0.000848</td>\n",
       "      <td>0.001223</td>\n",
       "      <td>6.198117e-04</td>\n",
       "      <td>0.000873</td>\n",
       "      <td>0.000703</td>\n",
       "    </tr>\n",
       "    <tr>\n",
       "      <td>Hlth</td>\n",
       "      <td>0.000651</td>\n",
       "      <td>0.000677</td>\n",
       "      <td>0.000403</td>\n",
       "      <td>0.001263</td>\n",
       "      <td>0.001349</td>\n",
       "      <td>0.000670</td>\n",
       "      <td>0.000783</td>\n",
       "      <td>0.001657</td>\n",
       "      <td>0.001358</td>\n",
       "      <td>0.001563</td>\n",
       "      <td>...</td>\n",
       "      <td>0.000838</td>\n",
       "      <td>0.001074</td>\n",
       "      <td>0.001082</td>\n",
       "      <td>0.001249</td>\n",
       "      <td>0.001244</td>\n",
       "      <td>0.001197</td>\n",
       "      <td>0.001183</td>\n",
       "      <td>6.615860e-04</td>\n",
       "      <td>0.001134</td>\n",
       "      <td>0.000853</td>\n",
       "    </tr>\n",
       "    <tr>\n",
       "      <td>Chems</td>\n",
       "      <td>0.000746</td>\n",
       "      <td>0.000637</td>\n",
       "      <td>0.000420</td>\n",
       "      <td>0.001747</td>\n",
       "      <td>0.001787</td>\n",
       "      <td>0.000694</td>\n",
       "      <td>0.000789</td>\n",
       "      <td>0.001358</td>\n",
       "      <td>0.002411</td>\n",
       "      <td>0.002010</td>\n",
       "      <td>...</td>\n",
       "      <td>0.001034</td>\n",
       "      <td>0.001329</td>\n",
       "      <td>0.001467</td>\n",
       "      <td>0.001682</td>\n",
       "      <td>0.001695</td>\n",
       "      <td>0.001515</td>\n",
       "      <td>0.001214</td>\n",
       "      <td>9.228977e-04</td>\n",
       "      <td>0.001543</td>\n",
       "      <td>0.001186</td>\n",
       "    </tr>\n",
       "    <tr>\n",
       "      <td>Txtls</td>\n",
       "      <td>0.000885</td>\n",
       "      <td>0.000939</td>\n",
       "      <td>0.000321</td>\n",
       "      <td>0.001758</td>\n",
       "      <td>0.002160</td>\n",
       "      <td>0.000865</td>\n",
       "      <td>0.001340</td>\n",
       "      <td>0.001563</td>\n",
       "      <td>0.002010</td>\n",
       "      <td>0.003912</td>\n",
       "      <td>...</td>\n",
       "      <td>0.001051</td>\n",
       "      <td>0.001416</td>\n",
       "      <td>0.001617</td>\n",
       "      <td>0.001800</td>\n",
       "      <td>0.001603</td>\n",
       "      <td>0.001583</td>\n",
       "      <td>0.001647</td>\n",
       "      <td>1.098463e-03</td>\n",
       "      <td>0.001548</td>\n",
       "      <td>0.001121</td>\n",
       "    </tr>\n",
       "    <tr>\n",
       "      <td>Cnstr</td>\n",
       "      <td>0.000817</td>\n",
       "      <td>0.000667</td>\n",
       "      <td>0.000377</td>\n",
       "      <td>0.001601</td>\n",
       "      <td>0.001931</td>\n",
       "      <td>0.000748</td>\n",
       "      <td>0.001032</td>\n",
       "      <td>0.001359</td>\n",
       "      <td>0.002004</td>\n",
       "      <td>0.002360</td>\n",
       "      <td>...</td>\n",
       "      <td>0.000976</td>\n",
       "      <td>0.001272</td>\n",
       "      <td>0.001385</td>\n",
       "      <td>0.001701</td>\n",
       "      <td>0.001762</td>\n",
       "      <td>0.001642</td>\n",
       "      <td>0.001408</td>\n",
       "      <td>9.817578e-04</td>\n",
       "      <td>0.001688</td>\n",
       "      <td>0.001115</td>\n",
       "    </tr>\n",
       "    <tr>\n",
       "      <td>Steel</td>\n",
       "      <td>0.000468</td>\n",
       "      <td>0.000537</td>\n",
       "      <td>0.000448</td>\n",
       "      <td>0.001577</td>\n",
       "      <td>0.001986</td>\n",
       "      <td>0.000529</td>\n",
       "      <td>0.000777</td>\n",
       "      <td>0.001349</td>\n",
       "      <td>0.002273</td>\n",
       "      <td>0.001741</td>\n",
       "      <td>...</td>\n",
       "      <td>0.001297</td>\n",
       "      <td>0.001241</td>\n",
       "      <td>0.001564</td>\n",
       "      <td>0.001475</td>\n",
       "      <td>0.002155</td>\n",
       "      <td>0.001864</td>\n",
       "      <td>0.001231</td>\n",
       "      <td>8.976712e-04</td>\n",
       "      <td>0.001857</td>\n",
       "      <td>0.001458</td>\n",
       "    </tr>\n",
       "    <tr>\n",
       "      <td>FabPr</td>\n",
       "      <td>0.000640</td>\n",
       "      <td>0.000595</td>\n",
       "      <td>0.000388</td>\n",
       "      <td>0.001662</td>\n",
       "      <td>0.001886</td>\n",
       "      <td>0.000688</td>\n",
       "      <td>0.000647</td>\n",
       "      <td>0.001227</td>\n",
       "      <td>0.002188</td>\n",
       "      <td>0.002047</td>\n",
       "      <td>...</td>\n",
       "      <td>0.001031</td>\n",
       "      <td>0.001275</td>\n",
       "      <td>0.001457</td>\n",
       "      <td>0.001767</td>\n",
       "      <td>0.001834</td>\n",
       "      <td>0.001590</td>\n",
       "      <td>0.001139</td>\n",
       "      <td>9.560863e-04</td>\n",
       "      <td>0.001627</td>\n",
       "      <td>0.001193</td>\n",
       "    </tr>\n",
       "    <tr>\n",
       "      <td>ElcEq</td>\n",
       "      <td>0.000733</td>\n",
       "      <td>0.000679</td>\n",
       "      <td>0.000532</td>\n",
       "      <td>0.001607</td>\n",
       "      <td>0.001734</td>\n",
       "      <td>0.000759</td>\n",
       "      <td>0.000794</td>\n",
       "      <td>0.001457</td>\n",
       "      <td>0.002065</td>\n",
       "      <td>0.001896</td>\n",
       "      <td>...</td>\n",
       "      <td>0.001055</td>\n",
       "      <td>0.001290</td>\n",
       "      <td>0.001456</td>\n",
       "      <td>0.001708</td>\n",
       "      <td>0.001782</td>\n",
       "      <td>0.001603</td>\n",
       "      <td>0.001239</td>\n",
       "      <td>8.530142e-04</td>\n",
       "      <td>0.001574</td>\n",
       "      <td>0.001201</td>\n",
       "    </tr>\n",
       "    <tr>\n",
       "      <td>Autos</td>\n",
       "      <td>0.000751</td>\n",
       "      <td>0.000510</td>\n",
       "      <td>0.000381</td>\n",
       "      <td>0.001404</td>\n",
       "      <td>0.001818</td>\n",
       "      <td>0.000594</td>\n",
       "      <td>0.000619</td>\n",
       "      <td>0.001157</td>\n",
       "      <td>0.001810</td>\n",
       "      <td>0.001702</td>\n",
       "      <td>...</td>\n",
       "      <td>0.000995</td>\n",
       "      <td>0.001185</td>\n",
       "      <td>0.001358</td>\n",
       "      <td>0.001422</td>\n",
       "      <td>0.001539</td>\n",
       "      <td>0.001375</td>\n",
       "      <td>0.001082</td>\n",
       "      <td>8.663997e-04</td>\n",
       "      <td>0.001566</td>\n",
       "      <td>0.000922</td>\n",
       "    </tr>\n",
       "    <tr>\n",
       "      <td>Carry</td>\n",
       "      <td>0.000678</td>\n",
       "      <td>0.000605</td>\n",
       "      <td>0.000676</td>\n",
       "      <td>0.001491</td>\n",
       "      <td>0.001369</td>\n",
       "      <td>0.000527</td>\n",
       "      <td>0.000775</td>\n",
       "      <td>0.001230</td>\n",
       "      <td>0.001641</td>\n",
       "      <td>0.001501</td>\n",
       "      <td>...</td>\n",
       "      <td>0.000871</td>\n",
       "      <td>0.001129</td>\n",
       "      <td>0.001290</td>\n",
       "      <td>0.001360</td>\n",
       "      <td>0.001505</td>\n",
       "      <td>0.001222</td>\n",
       "      <td>0.001242</td>\n",
       "      <td>8.028059e-04</td>\n",
       "      <td>0.001357</td>\n",
       "      <td>0.001153</td>\n",
       "    </tr>\n",
       "    <tr>\n",
       "      <td>Mines</td>\n",
       "      <td>0.000476</td>\n",
       "      <td>0.000454</td>\n",
       "      <td>0.000602</td>\n",
       "      <td>0.001527</td>\n",
       "      <td>0.001807</td>\n",
       "      <td>0.000393</td>\n",
       "      <td>0.000357</td>\n",
       "      <td>0.000633</td>\n",
       "      <td>0.002040</td>\n",
       "      <td>0.001526</td>\n",
       "      <td>...</td>\n",
       "      <td>0.001407</td>\n",
       "      <td>0.000970</td>\n",
       "      <td>0.000988</td>\n",
       "      <td>0.001135</td>\n",
       "      <td>0.001173</td>\n",
       "      <td>0.001216</td>\n",
       "      <td>0.000621</td>\n",
       "      <td>5.739619e-04</td>\n",
       "      <td>0.000964</td>\n",
       "      <td>0.000914</td>\n",
       "    </tr>\n",
       "    <tr>\n",
       "      <td>Coal</td>\n",
       "      <td>0.000103</td>\n",
       "      <td>-0.000364</td>\n",
       "      <td>-0.000741</td>\n",
       "      <td>0.001032</td>\n",
       "      <td>0.001504</td>\n",
       "      <td>0.000067</td>\n",
       "      <td>0.000229</td>\n",
       "      <td>0.000330</td>\n",
       "      <td>0.001637</td>\n",
       "      <td>0.000823</td>\n",
       "      <td>...</td>\n",
       "      <td>0.001014</td>\n",
       "      <td>0.000470</td>\n",
       "      <td>0.001350</td>\n",
       "      <td>0.000650</td>\n",
       "      <td>0.000891</td>\n",
       "      <td>0.001535</td>\n",
       "      <td>0.000632</td>\n",
       "      <td>1.132768e-07</td>\n",
       "      <td>0.001166</td>\n",
       "      <td>0.000729</td>\n",
       "    </tr>\n",
       "    <tr>\n",
       "      <td>Oil</td>\n",
       "      <td>0.000602</td>\n",
       "      <td>0.000482</td>\n",
       "      <td>0.000392</td>\n",
       "      <td>0.001428</td>\n",
       "      <td>0.001860</td>\n",
       "      <td>0.000430</td>\n",
       "      <td>0.000638</td>\n",
       "      <td>0.000837</td>\n",
       "      <td>0.001918</td>\n",
       "      <td>0.001182</td>\n",
       "      <td>...</td>\n",
       "      <td>0.001106</td>\n",
       "      <td>0.000911</td>\n",
       "      <td>0.000882</td>\n",
       "      <td>0.001145</td>\n",
       "      <td>0.001449</td>\n",
       "      <td>0.001423</td>\n",
       "      <td>0.000974</td>\n",
       "      <td>6.656698e-04</td>\n",
       "      <td>0.001394</td>\n",
       "      <td>0.000999</td>\n",
       "    </tr>\n",
       "    <tr>\n",
       "      <td>Util</td>\n",
       "      <td>0.000537</td>\n",
       "      <td>0.000595</td>\n",
       "      <td>0.000559</td>\n",
       "      <td>0.000135</td>\n",
       "      <td>0.000398</td>\n",
       "      <td>0.000453</td>\n",
       "      <td>0.000031</td>\n",
       "      <td>0.000333</td>\n",
       "      <td>0.000285</td>\n",
       "      <td>0.000355</td>\n",
       "      <td>...</td>\n",
       "      <td>0.000316</td>\n",
       "      <td>0.000223</td>\n",
       "      <td>0.000373</td>\n",
       "      <td>0.000479</td>\n",
       "      <td>0.000367</td>\n",
       "      <td>0.000290</td>\n",
       "      <td>0.000314</td>\n",
       "      <td>3.088497e-04</td>\n",
       "      <td>0.000044</td>\n",
       "      <td>0.000308</td>\n",
       "    </tr>\n",
       "    <tr>\n",
       "      <td>Telcm</td>\n",
       "      <td>0.000806</td>\n",
       "      <td>0.000719</td>\n",
       "      <td>0.000946</td>\n",
       "      <td>0.000947</td>\n",
       "      <td>0.001298</td>\n",
       "      <td>0.000746</td>\n",
       "      <td>0.000680</td>\n",
       "      <td>0.000838</td>\n",
       "      <td>0.001034</td>\n",
       "      <td>0.001051</td>\n",
       "      <td>...</td>\n",
       "      <td>0.001399</td>\n",
       "      <td>0.000796</td>\n",
       "      <td>0.000799</td>\n",
       "      <td>0.000932</td>\n",
       "      <td>0.000998</td>\n",
       "      <td>0.000967</td>\n",
       "      <td>0.000906</td>\n",
       "      <td>6.864812e-04</td>\n",
       "      <td>0.000903</td>\n",
       "      <td>0.000837</td>\n",
       "    </tr>\n",
       "    <tr>\n",
       "      <td>Servs</td>\n",
       "      <td>0.000610</td>\n",
       "      <td>0.000567</td>\n",
       "      <td>0.000433</td>\n",
       "      <td>0.001790</td>\n",
       "      <td>0.001136</td>\n",
       "      <td>0.000488</td>\n",
       "      <td>0.000746</td>\n",
       "      <td>0.001074</td>\n",
       "      <td>0.001329</td>\n",
       "      <td>0.001416</td>\n",
       "      <td>...</td>\n",
       "      <td>0.000796</td>\n",
       "      <td>0.001553</td>\n",
       "      <td>0.001456</td>\n",
       "      <td>0.001108</td>\n",
       "      <td>0.001038</td>\n",
       "      <td>0.000939</td>\n",
       "      <td>0.001181</td>\n",
       "      <td>7.019515e-04</td>\n",
       "      <td>0.001093</td>\n",
       "      <td>0.000718</td>\n",
       "    </tr>\n",
       "    <tr>\n",
       "      <td>BusEq</td>\n",
       "      <td>0.000644</td>\n",
       "      <td>0.000624</td>\n",
       "      <td>0.000599</td>\n",
       "      <td>0.001633</td>\n",
       "      <td>0.001195</td>\n",
       "      <td>0.000569</td>\n",
       "      <td>0.000672</td>\n",
       "      <td>0.001082</td>\n",
       "      <td>0.001467</td>\n",
       "      <td>0.001617</td>\n",
       "      <td>...</td>\n",
       "      <td>0.000799</td>\n",
       "      <td>0.001456</td>\n",
       "      <td>0.002080</td>\n",
       "      <td>0.001258</td>\n",
       "      <td>0.001296</td>\n",
       "      <td>0.001115</td>\n",
       "      <td>0.001227</td>\n",
       "      <td>7.961075e-04</td>\n",
       "      <td>0.001162</td>\n",
       "      <td>0.000871</td>\n",
       "    </tr>\n",
       "    <tr>\n",
       "      <td>Paper</td>\n",
       "      <td>0.000838</td>\n",
       "      <td>0.000836</td>\n",
       "      <td>0.000758</td>\n",
       "      <td>0.001183</td>\n",
       "      <td>0.001555</td>\n",
       "      <td>0.000820</td>\n",
       "      <td>0.000771</td>\n",
       "      <td>0.001249</td>\n",
       "      <td>0.001682</td>\n",
       "      <td>0.001800</td>\n",
       "      <td>...</td>\n",
       "      <td>0.000932</td>\n",
       "      <td>0.001108</td>\n",
       "      <td>0.001258</td>\n",
       "      <td>0.001713</td>\n",
       "      <td>0.001530</td>\n",
       "      <td>0.001289</td>\n",
       "      <td>0.001203</td>\n",
       "      <td>9.221691e-04</td>\n",
       "      <td>0.001261</td>\n",
       "      <td>0.001095</td>\n",
       "    </tr>\n",
       "    <tr>\n",
       "      <td>Trans</td>\n",
       "      <td>0.000676</td>\n",
       "      <td>0.000699</td>\n",
       "      <td>0.000670</td>\n",
       "      <td>0.001271</td>\n",
       "      <td>0.001501</td>\n",
       "      <td>0.000720</td>\n",
       "      <td>0.000922</td>\n",
       "      <td>0.001244</td>\n",
       "      <td>0.001695</td>\n",
       "      <td>0.001603</td>\n",
       "      <td>...</td>\n",
       "      <td>0.000998</td>\n",
       "      <td>0.001038</td>\n",
       "      <td>0.001296</td>\n",
       "      <td>0.001530</td>\n",
       "      <td>0.002314</td>\n",
       "      <td>0.001507</td>\n",
       "      <td>0.001279</td>\n",
       "      <td>1.042770e-03</td>\n",
       "      <td>0.001533</td>\n",
       "      <td>0.001232</td>\n",
       "    </tr>\n",
       "    <tr>\n",
       "      <td>Whlsl</td>\n",
       "      <td>0.000705</td>\n",
       "      <td>0.000550</td>\n",
       "      <td>0.000414</td>\n",
       "      <td>0.001202</td>\n",
       "      <td>0.001572</td>\n",
       "      <td>0.000609</td>\n",
       "      <td>0.000848</td>\n",
       "      <td>0.001197</td>\n",
       "      <td>0.001515</td>\n",
       "      <td>0.001583</td>\n",
       "      <td>...</td>\n",
       "      <td>0.000967</td>\n",
       "      <td>0.000939</td>\n",
       "      <td>0.001115</td>\n",
       "      <td>0.001289</td>\n",
       "      <td>0.001507</td>\n",
       "      <td>0.001554</td>\n",
       "      <td>0.001199</td>\n",
       "      <td>8.302607e-04</td>\n",
       "      <td>0.001290</td>\n",
       "      <td>0.001004</td>\n",
       "    </tr>\n",
       "    <tr>\n",
       "      <td>Rtail</td>\n",
       "      <td>0.000840</td>\n",
       "      <td>0.000642</td>\n",
       "      <td>0.000413</td>\n",
       "      <td>0.001450</td>\n",
       "      <td>0.001379</td>\n",
       "      <td>0.000676</td>\n",
       "      <td>0.001223</td>\n",
       "      <td>0.001183</td>\n",
       "      <td>0.001214</td>\n",
       "      <td>0.001647</td>\n",
       "      <td>...</td>\n",
       "      <td>0.000906</td>\n",
       "      <td>0.001181</td>\n",
       "      <td>0.001227</td>\n",
       "      <td>0.001203</td>\n",
       "      <td>0.001279</td>\n",
       "      <td>0.001199</td>\n",
       "      <td>0.001761</td>\n",
       "      <td>9.522421e-04</td>\n",
       "      <td>0.001139</td>\n",
       "      <td>0.000971</td>\n",
       "    </tr>\n",
       "    <tr>\n",
       "      <td>Meals</td>\n",
       "      <td>0.000596</td>\n",
       "      <td>0.000556</td>\n",
       "      <td>0.000533</td>\n",
       "      <td>0.000773</td>\n",
       "      <td>0.000999</td>\n",
       "      <td>0.000494</td>\n",
       "      <td>0.000620</td>\n",
       "      <td>0.000662</td>\n",
       "      <td>0.000923</td>\n",
       "      <td>0.001098</td>\n",
       "      <td>...</td>\n",
       "      <td>0.000686</td>\n",
       "      <td>0.000702</td>\n",
       "      <td>0.000796</td>\n",
       "      <td>0.000922</td>\n",
       "      <td>0.001043</td>\n",
       "      <td>0.000830</td>\n",
       "      <td>0.000952</td>\n",
       "      <td>1.046058e-03</td>\n",
       "      <td>0.000819</td>\n",
       "      <td>0.000747</td>\n",
       "    </tr>\n",
       "    <tr>\n",
       "      <td>Fin</td>\n",
       "      <td>0.000599</td>\n",
       "      <td>0.000424</td>\n",
       "      <td>0.000327</td>\n",
       "      <td>0.001248</td>\n",
       "      <td>0.001575</td>\n",
       "      <td>0.000497</td>\n",
       "      <td>0.000873</td>\n",
       "      <td>0.001134</td>\n",
       "      <td>0.001543</td>\n",
       "      <td>0.001548</td>\n",
       "      <td>...</td>\n",
       "      <td>0.000903</td>\n",
       "      <td>0.001093</td>\n",
       "      <td>0.001162</td>\n",
       "      <td>0.001261</td>\n",
       "      <td>0.001533</td>\n",
       "      <td>0.001290</td>\n",
       "      <td>0.001139</td>\n",
       "      <td>8.187333e-04</td>\n",
       "      <td>0.001847</td>\n",
       "      <td>0.001075</td>\n",
       "    </tr>\n",
       "    <tr>\n",
       "      <td>Other</td>\n",
       "      <td>0.000697</td>\n",
       "      <td>0.000602</td>\n",
       "      <td>0.000749</td>\n",
       "      <td>0.000701</td>\n",
       "      <td>0.001022</td>\n",
       "      <td>0.000665</td>\n",
       "      <td>0.000703</td>\n",
       "      <td>0.000853</td>\n",
       "      <td>0.001186</td>\n",
       "      <td>0.001121</td>\n",
       "      <td>...</td>\n",
       "      <td>0.000837</td>\n",
       "      <td>0.000718</td>\n",
       "      <td>0.000871</td>\n",
       "      <td>0.001095</td>\n",
       "      <td>0.001232</td>\n",
       "      <td>0.001004</td>\n",
       "      <td>0.000971</td>\n",
       "      <td>7.466924e-04</td>\n",
       "      <td>0.001075</td>\n",
       "      <td>0.001191</td>\n",
       "    </tr>\n",
       "  </tbody>\n",
       "</table>\n",
       "<p>30 rows × 30 columns</p>\n",
       "</div>"
      ],
      "text/plain": [
       "           Food      Beer     Smoke     Games     Books     Hshld     Clths  \\\n",
       "Food   0.001049  0.000886  0.001137  0.000575  0.000877  0.000757  0.000578   \n",
       "Beer   0.000886  0.001158  0.001199  0.000372  0.000769  0.000807  0.000448   \n",
       "Smoke  0.001137  0.001199  0.002936  0.000257  0.000559  0.000913  0.000329   \n",
       "Games  0.000575  0.000372  0.000257  0.003193  0.001550  0.000322  0.000954   \n",
       "Books  0.000877  0.000769  0.000559  0.001550  0.002608  0.000812  0.001126   \n",
       "Hshld  0.000757  0.000807  0.000913  0.000322  0.000812  0.000974  0.000527   \n",
       "Clths  0.000578  0.000448  0.000329  0.000954  0.001126  0.000527  0.001694   \n",
       "Hlth   0.000651  0.000677  0.000403  0.001263  0.001349  0.000670  0.000783   \n",
       "Chems  0.000746  0.000637  0.000420  0.001747  0.001787  0.000694  0.000789   \n",
       "Txtls  0.000885  0.000939  0.000321  0.001758  0.002160  0.000865  0.001340   \n",
       "Cnstr  0.000817  0.000667  0.000377  0.001601  0.001931  0.000748  0.001032   \n",
       "Steel  0.000468  0.000537  0.000448  0.001577  0.001986  0.000529  0.000777   \n",
       "FabPr  0.000640  0.000595  0.000388  0.001662  0.001886  0.000688  0.000647   \n",
       "ElcEq  0.000733  0.000679  0.000532  0.001607  0.001734  0.000759  0.000794   \n",
       "Autos  0.000751  0.000510  0.000381  0.001404  0.001818  0.000594  0.000619   \n",
       "Carry  0.000678  0.000605  0.000676  0.001491  0.001369  0.000527  0.000775   \n",
       "Mines  0.000476  0.000454  0.000602  0.001527  0.001807  0.000393  0.000357   \n",
       "Coal   0.000103 -0.000364 -0.000741  0.001032  0.001504  0.000067  0.000229   \n",
       "Oil    0.000602  0.000482  0.000392  0.001428  0.001860  0.000430  0.000638   \n",
       "Util   0.000537  0.000595  0.000559  0.000135  0.000398  0.000453  0.000031   \n",
       "Telcm  0.000806  0.000719  0.000946  0.000947  0.001298  0.000746  0.000680   \n",
       "Servs  0.000610  0.000567  0.000433  0.001790  0.001136  0.000488  0.000746   \n",
       "BusEq  0.000644  0.000624  0.000599  0.001633  0.001195  0.000569  0.000672   \n",
       "Paper  0.000838  0.000836  0.000758  0.001183  0.001555  0.000820  0.000771   \n",
       "Trans  0.000676  0.000699  0.000670  0.001271  0.001501  0.000720  0.000922   \n",
       "Whlsl  0.000705  0.000550  0.000414  0.001202  0.001572  0.000609  0.000848   \n",
       "Rtail  0.000840  0.000642  0.000413  0.001450  0.001379  0.000676  0.001223   \n",
       "Meals  0.000596  0.000556  0.000533  0.000773  0.000999  0.000494  0.000620   \n",
       "Fin    0.000599  0.000424  0.000327  0.001248  0.001575  0.000497  0.000873   \n",
       "Other  0.000697  0.000602  0.000749  0.000701  0.001022  0.000665  0.000703   \n",
       "\n",
       "           Hlth     Chems     Txtls  ...     Telcm     Servs     BusEq  \\\n",
       "Food   0.000651  0.000746  0.000885  ...  0.000806  0.000610  0.000644   \n",
       "Beer   0.000677  0.000637  0.000939  ...  0.000719  0.000567  0.000624   \n",
       "Smoke  0.000403  0.000420  0.000321  ...  0.000946  0.000433  0.000599   \n",
       "Games  0.001263  0.001747  0.001758  ...  0.000947  0.001790  0.001633   \n",
       "Books  0.001349  0.001787  0.002160  ...  0.001298  0.001136  0.001195   \n",
       "Hshld  0.000670  0.000694  0.000865  ...  0.000746  0.000488  0.000569   \n",
       "Clths  0.000783  0.000789  0.001340  ...  0.000680  0.000746  0.000672   \n",
       "Hlth   0.001657  0.001358  0.001563  ...  0.000838  0.001074  0.001082   \n",
       "Chems  0.001358  0.002411  0.002010  ...  0.001034  0.001329  0.001467   \n",
       "Txtls  0.001563  0.002010  0.003912  ...  0.001051  0.001416  0.001617   \n",
       "Cnstr  0.001359  0.002004  0.002360  ...  0.000976  0.001272  0.001385   \n",
       "Steel  0.001349  0.002273  0.001741  ...  0.001297  0.001241  0.001564   \n",
       "FabPr  0.001227  0.002188  0.002047  ...  0.001031  0.001275  0.001457   \n",
       "ElcEq  0.001457  0.002065  0.001896  ...  0.001055  0.001290  0.001456   \n",
       "Autos  0.001157  0.001810  0.001702  ...  0.000995  0.001185  0.001358   \n",
       "Carry  0.001230  0.001641  0.001501  ...  0.000871  0.001129  0.001290   \n",
       "Mines  0.000633  0.002040  0.001526  ...  0.001407  0.000970  0.000988   \n",
       "Coal   0.000330  0.001637  0.000823  ...  0.001014  0.000470  0.001350   \n",
       "Oil    0.000837  0.001918  0.001182  ...  0.001106  0.000911  0.000882   \n",
       "Util   0.000333  0.000285  0.000355  ...  0.000316  0.000223  0.000373   \n",
       "Telcm  0.000838  0.001034  0.001051  ...  0.001399  0.000796  0.000799   \n",
       "Servs  0.001074  0.001329  0.001416  ...  0.000796  0.001553  0.001456   \n",
       "BusEq  0.001082  0.001467  0.001617  ...  0.000799  0.001456  0.002080   \n",
       "Paper  0.001249  0.001682  0.001800  ...  0.000932  0.001108  0.001258   \n",
       "Trans  0.001244  0.001695  0.001603  ...  0.000998  0.001038  0.001296   \n",
       "Whlsl  0.001197  0.001515  0.001583  ...  0.000967  0.000939  0.001115   \n",
       "Rtail  0.001183  0.001214  0.001647  ...  0.000906  0.001181  0.001227   \n",
       "Meals  0.000662  0.000923  0.001098  ...  0.000686  0.000702  0.000796   \n",
       "Fin    0.001134  0.001543  0.001548  ...  0.000903  0.001093  0.001162   \n",
       "Other  0.000853  0.001186  0.001121  ...  0.000837  0.000718  0.000871   \n",
       "\n",
       "          Paper     Trans     Whlsl     Rtail         Meals       Fin  \\\n",
       "Food   0.000838  0.000676  0.000705  0.000840  5.960066e-04  0.000599   \n",
       "Beer   0.000836  0.000699  0.000550  0.000642  5.562742e-04  0.000424   \n",
       "Smoke  0.000758  0.000670  0.000414  0.000413  5.328949e-04  0.000327   \n",
       "Games  0.001183  0.001271  0.001202  0.001450  7.733721e-04  0.001248   \n",
       "Books  0.001555  0.001501  0.001572  0.001379  9.987197e-04  0.001575   \n",
       "Hshld  0.000820  0.000720  0.000609  0.000676  4.939002e-04  0.000497   \n",
       "Clths  0.000771  0.000922  0.000848  0.001223  6.198117e-04  0.000873   \n",
       "Hlth   0.001249  0.001244  0.001197  0.001183  6.615860e-04  0.001134   \n",
       "Chems  0.001682  0.001695  0.001515  0.001214  9.228977e-04  0.001543   \n",
       "Txtls  0.001800  0.001603  0.001583  0.001647  1.098463e-03  0.001548   \n",
       "Cnstr  0.001701  0.001762  0.001642  0.001408  9.817578e-04  0.001688   \n",
       "Steel  0.001475  0.002155  0.001864  0.001231  8.976712e-04  0.001857   \n",
       "FabPr  0.001767  0.001834  0.001590  0.001139  9.560863e-04  0.001627   \n",
       "ElcEq  0.001708  0.001782  0.001603  0.001239  8.530142e-04  0.001574   \n",
       "Autos  0.001422  0.001539  0.001375  0.001082  8.663997e-04  0.001566   \n",
       "Carry  0.001360  0.001505  0.001222  0.001242  8.028059e-04  0.001357   \n",
       "Mines  0.001135  0.001173  0.001216  0.000621  5.739619e-04  0.000964   \n",
       "Coal   0.000650  0.000891  0.001535  0.000632  1.132768e-07  0.001166   \n",
       "Oil    0.001145  0.001449  0.001423  0.000974  6.656698e-04  0.001394   \n",
       "Util   0.000479  0.000367  0.000290  0.000314  3.088497e-04  0.000044   \n",
       "Telcm  0.000932  0.000998  0.000967  0.000906  6.864812e-04  0.000903   \n",
       "Servs  0.001108  0.001038  0.000939  0.001181  7.019515e-04  0.001093   \n",
       "BusEq  0.001258  0.001296  0.001115  0.001227  7.961075e-04  0.001162   \n",
       "Paper  0.001713  0.001530  0.001289  0.001203  9.221691e-04  0.001261   \n",
       "Trans  0.001530  0.002314  0.001507  0.001279  1.042770e-03  0.001533   \n",
       "Whlsl  0.001289  0.001507  0.001554  0.001199  8.302607e-04  0.001290   \n",
       "Rtail  0.001203  0.001279  0.001199  0.001761  9.522421e-04  0.001139   \n",
       "Meals  0.000922  0.001043  0.000830  0.000952  1.046058e-03  0.000819   \n",
       "Fin    0.001261  0.001533  0.001290  0.001139  8.187333e-04  0.001847   \n",
       "Other  0.001095  0.001232  0.001004  0.000971  7.466924e-04  0.001075   \n",
       "\n",
       "          Other  \n",
       "Food   0.000697  \n",
       "Beer   0.000602  \n",
       "Smoke  0.000749  \n",
       "Games  0.000701  \n",
       "Books  0.001022  \n",
       "Hshld  0.000665  \n",
       "Clths  0.000703  \n",
       "Hlth   0.000853  \n",
       "Chems  0.001186  \n",
       "Txtls  0.001121  \n",
       "Cnstr  0.001115  \n",
       "Steel  0.001458  \n",
       "FabPr  0.001193  \n",
       "ElcEq  0.001201  \n",
       "Autos  0.000922  \n",
       "Carry  0.001153  \n",
       "Mines  0.000914  \n",
       "Coal   0.000729  \n",
       "Oil    0.000999  \n",
       "Util   0.000308  \n",
       "Telcm  0.000837  \n",
       "Servs  0.000718  \n",
       "BusEq  0.000871  \n",
       "Paper  0.001095  \n",
       "Trans  0.001232  \n",
       "Whlsl  0.001004  \n",
       "Rtail  0.000971  \n",
       "Meals  0.000747  \n",
       "Fin    0.001075  \n",
       "Other  0.001191  \n",
       "\n",
       "[30 rows x 30 columns]"
      ]
     },
     "execution_count": 10,
     "metadata": {},
     "output_type": "execute_result"
    }
   ],
   "source": [
    "cov"
   ]
  },
  {
   "cell_type": "markdown",
   "metadata": {},
   "source": [
    "## Portfolio Return and Volatility"
   ]
  },
  {
   "cell_type": "code",
   "execution_count": 11,
   "metadata": {},
   "outputs": [],
   "source": [
    "# List of interest\n",
    "ind_list = [\"Food\", \"Fin\", \"Util\", \"Beer\"]"
   ]
  },
  {
   "cell_type": "code",
   "execution_count": 12,
   "metadata": {},
   "outputs": [
    {
     "data": {
      "text/plain": [
       "Food    0.052304\n",
       "Fin     0.090466\n",
       "Util    0.077008\n",
       "Beer    0.097981\n",
       "dtype: float64"
      ]
     },
     "execution_count": 12,
     "metadata": {},
     "output_type": "execute_result"
    }
   ],
   "source": [
    "# Expected Annual Returns (computed using Historical data)\n",
    "er[ind_list]"
   ]
  },
  {
   "cell_type": "code",
   "execution_count": 13,
   "metadata": {},
   "outputs": [
    {
     "data": {
      "text/html": [
       "<div>\n",
       "<style scoped>\n",
       "    .dataframe tbody tr th:only-of-type {\n",
       "        vertical-align: middle;\n",
       "    }\n",
       "\n",
       "    .dataframe tbody tr th {\n",
       "        vertical-align: top;\n",
       "    }\n",
       "\n",
       "    .dataframe thead th {\n",
       "        text-align: right;\n",
       "    }\n",
       "</style>\n",
       "<table border=\"1\" class=\"dataframe\">\n",
       "  <thead>\n",
       "    <tr style=\"text-align: right;\">\n",
       "      <th></th>\n",
       "      <th>Food</th>\n",
       "      <th>Fin</th>\n",
       "      <th>Util</th>\n",
       "      <th>Beer</th>\n",
       "    </tr>\n",
       "  </thead>\n",
       "  <tbody>\n",
       "    <tr>\n",
       "      <td>Food</td>\n",
       "      <td>0.001049</td>\n",
       "      <td>0.000599</td>\n",
       "      <td>0.000537</td>\n",
       "      <td>0.000886</td>\n",
       "    </tr>\n",
       "    <tr>\n",
       "      <td>Fin</td>\n",
       "      <td>0.000599</td>\n",
       "      <td>0.001847</td>\n",
       "      <td>0.000044</td>\n",
       "      <td>0.000424</td>\n",
       "    </tr>\n",
       "    <tr>\n",
       "      <td>Util</td>\n",
       "      <td>0.000537</td>\n",
       "      <td>0.000044</td>\n",
       "      <td>0.001068</td>\n",
       "      <td>0.000595</td>\n",
       "    </tr>\n",
       "    <tr>\n",
       "      <td>Beer</td>\n",
       "      <td>0.000886</td>\n",
       "      <td>0.000424</td>\n",
       "      <td>0.000595</td>\n",
       "      <td>0.001158</td>\n",
       "    </tr>\n",
       "  </tbody>\n",
       "</table>\n",
       "</div>"
      ],
      "text/plain": [
       "          Food       Fin      Util      Beer\n",
       "Food  0.001049  0.000599  0.000537  0.000886\n",
       "Fin   0.000599  0.001847  0.000044  0.000424\n",
       "Util  0.000537  0.000044  0.001068  0.000595\n",
       "Beer  0.000886  0.000424  0.000595  0.001158"
      ]
     },
     "execution_count": 13,
     "metadata": {},
     "output_type": "execute_result"
    }
   ],
   "source": [
    "# Variance-Covariance matrix\n",
    "cov.loc[ind_list, ind_list]"
   ]
  },
  {
   "cell_type": "code",
   "execution_count": 14,
   "metadata": {},
   "outputs": [],
   "source": [
    "# generate equal-weights: ew\n",
    "ew = np.repeat(0.25, 4)"
   ]
  },
  {
   "cell_type": "code",
   "execution_count": 15,
   "metadata": {},
   "outputs": [],
   "source": [
    "def portfolio_return(weights, returns):\n",
    "    \"\"\"\n",
    "    Computes the return on a portfolio from constituent returns and weights\n",
    "    weights are a numpy array or Nx1 matrix and returns are a numpy array or Nx1 matrix\n",
    "    \"\"\"\n",
    "    return weights.T @ returns\n",
    "\n",
    "\n",
    "def portfolio_vol(weights, covmat):\n",
    "    \"\"\"\n",
    "    Computes the vol of a portfolio from a covariance matrix and constituent weights\n",
    "    weights are a numpy array or N x 1 maxtrix and covmat is an N x N matrix\n",
    "    \"\"\"\n",
    "    return (weights.T @ covmat @ weights)**0.5"
   ]
  },
  {
   "cell_type": "code",
   "execution_count": 16,
   "metadata": {},
   "outputs": [
    {
     "data": {
      "text/plain": [
       "0.07943983290903478"
      ]
     },
     "execution_count": 16,
     "metadata": {},
     "output_type": "execute_result"
    }
   ],
   "source": [
    "portfolio_return(ew, er[ind_list])"
   ]
  },
  {
   "cell_type": "code",
   "execution_count": 17,
   "metadata": {},
   "outputs": [
    {
     "data": {
      "text/plain": [
       "0.026568826312110726"
      ]
     },
     "execution_count": 17,
     "metadata": {},
     "output_type": "execute_result"
    }
   ],
   "source": [
    "portfolio_vol(ew, cov.loc[ind_list, ind_list])"
   ]
  },
  {
   "cell_type": "markdown",
   "metadata": {},
   "source": [
    "## Efficient Frontier (2 assets)"
   ]
  },
  {
   "cell_type": "markdown",
   "metadata": {},
   "source": [
    "In the case of 2 assets, the problem is somewhat simplified, since the weight of the second asset is ( 1 - the weight of the first asset).\n",
    "\n",
    "Let's write a function that draws the efficient frontier for a simple 2 asset case.\n",
    "\n",
    "We start by generating a sequence of weights in a list of tuples. Python makes it easy to generate a list by using something called a _list comprehension_.\n",
    "\n",
    "```python\n",
    "weights = [np.array([w, 1-w]) for w in np.linspace(0, 1, n_points)]\n",
    "\n",
    "```\n",
    "\n"
   ]
  },
  {
   "cell_type": "code",
   "execution_count": 18,
   "metadata": {},
   "outputs": [],
   "source": [
    "def plot_ef2(n_points, er, cov):\n",
    "    \"\"\"\n",
    "    Plots the 2-asset efficient frontier\n",
    "    \"\"\"\n",
    "    if er.shape[0] != 2:\n",
    "        raise ValueError(\"plot_ef2 can only plot 2-asset frontiers\")\n",
    "    # Generate weights\n",
    "    weights = [np.array([w, 1-w]) for w in np.linspace(0, 1, n_points)]\n",
    "    # For each set of weights - calculate portfolio return and volatility\n",
    "    rets = [portfolio_return(w, er) for w in weights]\n",
    "    vols = [portfolio_vol(w, cov) for w in weights]\n",
    "    ef = pd.DataFrame({\n",
    "        \"Returns\": rets, \n",
    "        \"Volatility\": vols\n",
    "    })\n",
    "    return ef.plot.line(x=\"Volatility\", y=\"Returns\", style=\".-\")"
   ]
  },
  {
   "cell_type": "code",
   "execution_count": 19,
   "metadata": {},
   "outputs": [
    {
     "data": {
      "text/plain": [
       "<matplotlib.axes._subplots.AxesSubplot at 0x1d093194400>"
      ]
     },
     "execution_count": 19,
     "metadata": {},
     "output_type": "execute_result"
    },
    {
     "data": {
      "image/png": "[encoded data removed]",
      "text/plain": [
       "<Figure size 432x288 with 1 Axes>"
      ]
     },
     "metadata": {
      "needs_background": "light"
     },
     "output_type": "display_data"
    }
   ],
   "source": [
    "l = [\"Fin\", \"Beer\"]\n",
    "plot_ef2(25, er[l].values, cov.loc[l,l])"
   ]
  },
  {
   "cell_type": "markdown",
   "metadata": {},
   "source": [
    "## Efficient Frontier (multiple assets)\n",
    "\n",
    "In order to plot the frontier for portfolios with more than 2 assets, we need to find the weights of the portfolio on the efficient frontier.\n",
    "\n",
    "In order to find the optimal weights, we need a function that will minimize the volatility for a given level of return.\n",
    "\n",
    "In order to find the efficient frontier, recall, that the portfolio on the efficient frontier is the one with the **minimum volatility for a certain level of return**.\n",
    "\n",
    "__Objective function:__ minimize the variance\n",
    "\n",
    "__Constraints:__ return is at a certain level, all weights are greater than 0 (no shorting), weights add up to 1."
   ]
  },
  {
   "cell_type": "code",
   "execution_count": 20,
   "metadata": {},
   "outputs": [],
   "source": [
    "from scipy.optimize import minimize\n",
    "\n",
    "def minimize_vol(target_return, er, cov):\n",
    "    \"\"\"\n",
    "    Returns the optimal weights that achieve the target return\n",
    "    given a set of expected returns and a covariance matrix\n",
    "    \"\"\"\n",
    "    n = er.shape[0] # How many assets we have\n",
    "    init_guess = np.repeat(1/n, n) # initial guess of weights\n",
    "    bounds = ((0.0, 1.0),) * n # an N-tuple of 2-tuples! For every element in the weight vector we give bounds.\n",
    "    \n",
    "    # construct the constraints\n",
    "    # With whatever weights optimizer comes up, constraints have to be satisfied!\n",
    "    \n",
    "    # type: eq(equality constraint)\n",
    "    # lambda is anonymous function, that takes weights as argument and returns sum of weights minus one. \n",
    "    weights_sum_to_1 = {'type': 'eq',\n",
    "                        'fun': lambda weights: np.sum(weights) - 1\n",
    "    }\n",
    "    # args: (er,) additional arguments\n",
    "    return_is_target = {'type': 'eq',\n",
    "                        'args': (er,),\n",
    "                        'fun': lambda weights, er: target_return - portfolio_return(weights,er)\n",
    "    }\n",
    "    \n",
    "    # we want to miminize portfolio volatility.\n",
    "    # We give initial guess\n",
    "    # erk.portfolio_vol requires weights AND covMatrix, thus\n",
    "    # We specify aditional arguments 'args=(cov,)\n",
    "    # SLSQP - quadratic programming optimizer\n",
    "    weights = minimize(portfolio_vol, init_guess,\n",
    "                       args=(cov,), method='SLSQP',\n",
    "                       options={'disp': False},\n",
    "                       constraints=(weights_sum_to_1,return_is_target),\n",
    "                       bounds=bounds)\n",
    "    return weights.x"
   ]
  },
  {
   "cell_type": "markdown",
   "metadata": {},
   "source": [
    "Let's use this to recreate the result we got from frontier for the 2-Asset optimization between \"Beer\" and \"Fin\"."
   ]
  },
  {
   "cell_type": "code",
   "execution_count": 21,
   "metadata": {},
   "outputs": [
    {
     "data": {
      "text/plain": [
       "<matplotlib.axes._subplots.AxesSubplot at 0x1d093219358>"
      ]
     },
     "execution_count": 21,
     "metadata": {},
     "output_type": "execute_result"
    },
    {
     "data": {
      "image/png": "[encoded data removed]",
      "text/plain": [
       "<Figure size 432x288 with 1 Axes>"
      ]
     },
     "metadata": {
      "needs_background": "light"
     },
     "output_type": "display_data"
    }
   ],
   "source": [
    "# Plot efficient frontier between two assets\n",
    "l = [\"Fin\", \"Beer\"]\n",
    "plot_ef2(25, er[l].values, cov.loc[l,l])"
   ]
  },
  {
   "cell_type": "markdown",
   "metadata": {},
   "source": [
    "The Efficient Frontier for the portfolio that has a target return of 0.0955 is approx 0.030, so let's see if our optimizer is able to locate it."
   ]
  },
  {
   "cell_type": "code",
   "execution_count": 22,
   "metadata": {},
   "outputs": [
    {
     "data": {
      "text/plain": [
       "array([0.3301081, 0.6698919])"
      ]
     },
     "execution_count": 22,
     "metadata": {},
     "output_type": "execute_result"
    }
   ],
   "source": [
    "# Find weights that gives 9.55% return with the lowest volatility\n",
    "weights_955 = minimize_vol(0.0955, er[l], cov.loc[l,l])\n",
    "weights_955"
   ]
  },
  {
   "cell_type": "code",
   "execution_count": 23,
   "metadata": {},
   "outputs": [
    {
     "data": {
      "text/plain": [
       "0.03014398589122803"
      ]
     },
     "execution_count": 23,
     "metadata": {},
     "output_type": "execute_result"
    }
   ],
   "source": [
    "vol_955 = portfolio_vol(weights_955, cov.loc[l,l])\n",
    "vol_955"
   ]
  },
  {
   "cell_type": "markdown",
   "metadata": {},
   "source": [
    "Perfect!\n",
    "\n",
    "Now that we can find the weights to minimize the vol given a target return, we can plot the efficient frontier by dividing up the range from the highest to the lowest possible return into a grid, and finding the portfolio that targets the minimum volatility given a particular targeted rate of return."
   ]
  },
  {
   "cell_type": "code",
   "execution_count": 24,
   "metadata": {},
   "outputs": [],
   "source": [
    "def optimal_weights(n_points, er, cov):\n",
    "    \"\"\"\n",
    "    \"\"\"\n",
    "    target_rs = np.linspace(er.min(), er.max(), n_points)\n",
    "    weights = [minimize_vol(target_return, er, cov) for target_return in target_rs]\n",
    "    return weights\n",
    "\n",
    "def plot_ef(n_points, er, cov):\n",
    "    \"\"\"\n",
    "    Plots the multi-asset efficient frontier\n",
    "    \"\"\"\n",
    "    weights = optimal_weights(n_points, er, cov)\n",
    "    rets = [portfolio_return(w, er) for w in weights]\n",
    "    vols = [portfolio_vol(w, cov) for w in weights]\n",
    "    ef = pd.DataFrame({\n",
    "        \"Returns\": rets, \n",
    "        \"Volatility\": vols\n",
    "    })\n",
    "    return ef.plot.line(x=\"Volatility\", y=\"Returns\", style='.-')"
   ]
  },
  {
   "cell_type": "code",
   "execution_count": 25,
   "metadata": {},
   "outputs": [
    {
     "data": {
      "text/plain": [
       "<matplotlib.axes._subplots.AxesSubplot at 0x1d0939bf160>"
      ]
     },
     "execution_count": 25,
     "metadata": {},
     "output_type": "execute_result"
    },
    {
     "data": {
      "image/png": "[encoded data removed]",
      "text/plain": [
       "<Figure size 432x288 with 1 Axes>"
      ]
     },
     "metadata": {
      "needs_background": "light"
     },
     "output_type": "display_data"
    }
   ],
   "source": [
    "l = [\"Smoke\", \"Fin\", \"Games\", \"Coal\"]\n",
    "plot_ef(50, er[l], cov.loc[l,l]) "
   ]
  },
  {
   "cell_type": "markdown",
   "metadata": {},
   "source": [
    "## Finding the Max Sharpe Ratio Portfolio\n",
    "\n",
    "In this section, we'll extend the code to locate the point on the efficient frontier that we are most interested in, which is the tangency portfolio or the Max Sharpe Ratio portfolio (MSR).\n",
    "\n",
    "**Key Points**:\n",
    "- In the presence of a **risk-free asset** the efficient frontier becomes a straight line (**The Capital Market Line**)\n",
    "- All investors **should hold a combination of the risk-free asset and the portfolio** that maximizes the reward per risk ratio.\n",
    "- The MSR portfolio contains **NO** exposure to unrewarded (specific) risks. It's only systematic risk."
   ]
  },
  {
   "cell_type": "markdown",
   "metadata": {},
   "source": [
    "We already know how to identify points on the curve if we are given a target rate of return (`minimize_vol`). Instead of minimizing the vol based on a target return, we want to find that one point on the curve that maximizes the Sharpe Ratio, given the risk free rate."
   ]
  },
  {
   "cell_type": "code",
   "execution_count": 26,
   "metadata": {},
   "outputs": [],
   "source": [
    "def msr(riskfree_rate, er, cov):\n",
    "    \"\"\"\n",
    "    Returns the weights of the portfolio that gives you the maximum sharpe ratio\n",
    "    given the riskfree rate and expected returns and a covariance matrix\n",
    "    \"\"\"\n",
    "    n = er.shape[0]\n",
    "    init_guess = np.repeat(1/n, n)\n",
    "    bounds = ((0.0, 1.0),) * n # an N-tuple of 2-tuples!\n",
    "    # construct the constraints\n",
    "    weights_sum_to_1 = {'type': 'eq',\n",
    "                        'fun': lambda weights: np.sum(weights) - 1\n",
    "    }\n",
    "    # Our ultimate goal: find weights that maximizes Sharpe ratio\n",
    "    # Maximizing Sharpe Ratio = Minimizing Negative Sharpe Ratio\n",
    "    def neg_sharpe(weights, riskfree_rate, er, cov): \n",
    "        \"\"\"\n",
    "        Returns the negative of the sharpe ratio\n",
    "        of the given portfolio\n",
    "        \"\"\"\n",
    "        r = portfolio_return(weights, er)\n",
    "        vol = portfolio_vol(weights, cov)\n",
    "        return -(r - riskfree_rate)/vol # Compute negative sharpe ratio\n",
    "    \n",
    "    # minimization:\n",
    "    weights = minimize(neg_sharpe, init_guess,\n",
    "                       args=(riskfree_rate, er, cov), method='SLSQP',\n",
    "                       options={'disp': False},\n",
    "                       constraints=(weights_sum_to_1,),\n",
    "                       bounds=bounds)\n",
    "    return weights.x"
   ]
  },
  {
   "cell_type": "markdown",
   "metadata": {},
   "source": [
    "Let's guess where the point might be:"
   ]
  },
  {
   "cell_type": "code",
   "execution_count": 27,
   "metadata": {},
   "outputs": [
    {
     "data": {
      "text/plain": [
       "(0, 0.12888255924720646)"
      ]
     },
     "execution_count": 27,
     "metadata": {},
     "output_type": "execute_result"
    },
    {
     "data": {
      "image/png": "[encoded data removed]",
      "text/plain": [
       "<Figure size 432x288 with 1 Axes>"
      ]
     },
     "metadata": {
      "needs_background": "light"
     },
     "output_type": "display_data"
    }
   ],
   "source": [
    "ax = plot_ef(20, er, cov)\n",
    "plt.xlim(left = 0)"
   ]
  },
  {
   "cell_type": "code",
   "execution_count": 28,
   "metadata": {
    "scrolled": false
   },
   "outputs": [
    {
     "data": {
      "text/plain": [
       "[<matplotlib.lines.Line2D at 0x1d094ad1a58>]"
      ]
     },
     "execution_count": 28,
     "metadata": {},
     "output_type": "execute_result"
    },
    {
     "data": {
      "image/png": "[encoded data removed]",
      "text/plain": [
       "<Figure size 432x288 with 1 Axes>"
      ]
     },
     "metadata": {
      "needs_background": "light"
     },
     "output_type": "display_data"
    }
   ],
   "source": [
    "# plot EF\n",
    "plot_ef(20, er, cov)\n",
    "plt.xlim(left = 0)\n",
    "# get MSR\n",
    "rf = 0.03 # Set risk free rate\n",
    "w_msr = msr(rf, er, cov) # weights of max sharpe ratio portfolio\n",
    "r_msr = portfolio_return(w_msr, er) # returns of MSR\n",
    "vol_msr = portfolio_vol(w_msr, cov)\n",
    "# add CML\n",
    "cml_x = [0, vol_msr]\n",
    "cml_y = [rf, r_msr]\n",
    "plt.plot(cml_x, cml_y, color='green', marker='o', linestyle='dashed', linewidth=2, markersize=12)"
   ]
  },
  {
   "cell_type": "markdown",
   "metadata": {},
   "source": [
    "## Lack of Robustness of the Markowitz procedure and the GMV portfolio\n",
    "\n",
    "**Key points**:\n",
    "- Markowitz analysis is hardly used in practice since it tends to yield unreasonable corner solutions.\n",
    "- Model carries a high estimation risk/error: expected returns and expected covariance are estimated using historical data.\n",
    "- To reduce estimation errors, often used in practice: **Global Minimum Variance (GMV)** portfolio. Since it requires no expected return estimates, it is only sensitive to errors in risk parameter estimates.\n",
    "- **The equal-weight (EW) is not subject to any estimation error** and as a result will likely have a higher risk-adjusted performance compared to the __MSR__ portfolio based on sample estimates.\n",
    "\n",
    "Although the promise of the Markowitz procedure is exciting, in tends to fall apart in practice. The problem is that we rarely know Expected Returns and Expected Covariance in advance. Our estimates almost certainly contain some estimation error, and we'll see that the procedure is highly sensitive to these errors, which tend to get exaggerated in the portfolio."
   ]
  },
  {
   "cell_type": "code",
   "execution_count": 29,
   "metadata": {},
   "outputs": [
    {
     "data": {
      "text/plain": [
       "array([0.73112425, 0.26887575])"
      ]
     },
     "execution_count": 29,
     "metadata": {},
     "output_type": "execute_result"
    }
   ],
   "source": [
    "# Find the Maximum Sharpe Ratio portfolio weights:\n",
    "l = [\"Fin\", \"Games\"] \n",
    "msr(riskfree_rate = 0.03, er = np.array(er[l]), cov = cov.loc[l,l]) "
   ]
  },
  {
   "cell_type": "markdown",
   "metadata": {},
   "source": [
    "Let's look at the returns of the two assets that dictated those weights"
   ]
  },
  {
   "cell_type": "code",
   "execution_count": 30,
   "metadata": {
    "scrolled": true
   },
   "outputs": [
    {
     "data": {
      "text/plain": [
       "Fin      0.090466\n",
       "Games    0.093517\n",
       "dtype: float64"
      ]
     },
     "execution_count": 30,
     "metadata": {},
     "output_type": "execute_result"
    }
   ],
   "source": [
    "er[l] "
   ]
  },
  {
   "cell_type": "markdown",
   "metadata": {},
   "source": [
    "Now assume that we had a really good estimator, and we were off by only a fraction of a percent in our estimate, and we had estimated a return of 9.5 and 8.5 percent respectively for Fin and Food."
   ]
  },
  {
   "cell_type": "code",
   "execution_count": 31,
   "metadata": {},
   "outputs": [
    {
     "data": {
      "text/plain": [
       "array([0.87166757, 0.12833243])"
      ]
     },
     "execution_count": 31,
     "metadata": {},
     "output_type": "execute_result"
    }
   ],
   "source": [
    "msr(riskfree_rate = 0.03, er = np.array([.095, .085]), cov = cov.loc[l,l])"
   ]
  },
  {
   "cell_type": "markdown",
   "metadata": {},
   "source": [
    "We see that even a small change in the estimate causes a major change in the weights. What if we were off by around 1% to 2% percent in each estimate and estimated 7.5% and 11% instead of the return of 9% and 9.3%?"
   ]
  },
  {
   "cell_type": "code",
   "execution_count": 32,
   "metadata": {},
   "outputs": [
    {
     "data": {
      "text/plain": [
       "array([0.32387729, 0.67612271])"
      ]
     },
     "execution_count": 32,
     "metadata": {},
     "output_type": "execute_result"
    }
   ],
   "source": [
    "msr(riskfree_rate = 0.03, er = np.array([.075, .11]), cov = cov.loc[l,l])"
   ]
  },
  {
   "cell_type": "markdown",
   "metadata": {},
   "source": [
    "### Avoiding estimation errors - Equal Weight Portfolio\n",
    "\n",
    "One way to avoid this estimation game is to skip the entire process and just rely on _naive_ diversification, which means hold all stocks with `equal weight`. We can add the EW portfolio to the plot by enhancing the `plot_ef` function."
   ]
  },
  {
   "cell_type": "code",
   "execution_count": 33,
   "metadata": {},
   "outputs": [],
   "source": [
    "def plot_ef(n_points, er, cov, style='.-', legend=False, show_cml=False, riskfree_rate=0, show_ew=False, show_gmv=False):\n",
    "    \"\"\"\n",
    "    Plots the multi-asset efficient frontier\n",
    "    \"\"\"\n",
    "    weights = optimal_weights(n_points, er, cov)\n",
    "    rets = [portfolio_return(w, er) for w in weights]\n",
    "    vols = [portfolio_vol(w, cov) for w in weights]\n",
    "    ef = pd.DataFrame({\n",
    "        \"Returns\": rets, \n",
    "        \"Volatility\": vols\n",
    "    })\n",
    "    ax = ef.plot.line(x=\"Volatility\", y=\"Returns\", style=style, legend=legend)\n",
    "    if show_cml:\n",
    "        ax.set_xlim(left = 0)\n",
    "        # get MSR\n",
    "        w_msr = msr(riskfree_rate, er, cov)\n",
    "        r_msr = portfolio_return(w_msr, er)\n",
    "        vol_msr = portfolio_vol(w_msr, cov)\n",
    "        # add CML\n",
    "        cml_x = [0, vol_msr]\n",
    "        cml_y = [riskfree_rate, r_msr]\n",
    "        ax.plot(cml_x, cml_y, color='green', marker='o', linestyle='dashed', linewidth=2, markersize=10)\n",
    "    if show_ew:\n",
    "        n = er.shape[0]\n",
    "        w_ew = np.repeat(1/n, n)\n",
    "        r_ew = portfolio_return(w_ew, er)\n",
    "        vol_ew = portfolio_vol(w_ew, cov)\n",
    "        # add EW\n",
    "        ax.plot([vol_ew], [r_ew], color='goldenrod', marker='o', markersize=10)\n",
    "        \n",
    "        return ax"
   ]
  },
  {
   "cell_type": "code",
   "execution_count": 34,
   "metadata": {},
   "outputs": [
    {
     "data": {
      "text/plain": [
       "<matplotlib.axes._subplots.AxesSubplot at 0x1d094b07be0>"
      ]
     },
     "execution_count": 34,
     "metadata": {},
     "output_type": "execute_result"
    },
    {
     "data": {
      "image/png": "[encoded data removed]",
      "text/plain": [
       "<Figure size 432x288 with 1 Axes>"
      ]
     },
     "metadata": {
      "needs_background": "light"
     },
     "output_type": "display_data"
    }
   ],
   "source": [
    "plot_ef(20, er, cov, show_cml=True, riskfree_rate=0.03, show_ew=True)"
   ]
  },
  {
   "cell_type": "markdown",
   "metadata": {},
   "source": [
    "Researchers have shown that the `EW portfolio` is a remarkably good portfolio to hold. In fact, there is overwhelming support for the idea that it is a far better portfolio to hold than a cap-weighted equivalent. We can see that the EW portfolio is far inside the efficient frontier, but it requires no estimation whatsoever."
   ]
  },
  {
   "cell_type": "markdown",
   "metadata": {},
   "source": [
    "### Avoiding estimation errors - Global Minimum Volatility (GMV) portfolio\n",
    "However, there is another point on the efficient frontier that is very interesting. This is the _nose_ of the hull, which is the portfolio of lowest volatility across all possible portfolios. This is called the Minimum Volatility or the Global Minimum Volatility or GMV portfolio.\n",
    "\n",
    "But how do we find the weights of the GMV portfolio?\n",
    "\n",
    "The interesting thing about it is that if you assume that all returns are the same, the optimizer cannot improve the Sharpe ratio through raising returns, and so it must do so by lowering volatility. This means that if we just skip any returns estimation and assume all returns have the same return, we'd get the weights of the GMV portfolio!"
   ]
  },
  {
   "cell_type": "code",
   "execution_count": 35,
   "metadata": {},
   "outputs": [],
   "source": [
    "def gmv(cov):\n",
    "    \"\"\"\n",
    "    Returns the weights of the Global Minimum Volatility portfolio\n",
    "    given a covariance matrix\n",
    "    \"\"\"\n",
    "    n = cov.shape[0]\n",
    "    return msr(0, np.repeat(1, n), cov)"
   ]
  },
  {
   "cell_type": "code",
   "execution_count": 36,
   "metadata": {},
   "outputs": [],
   "source": [
    "def plot_ef(n_points, er, cov, style='.-', legend=False, show_cml=False, riskfree_rate=0, show_ew=False, show_gmv=False):\n",
    "    \"\"\"\n",
    "    Plots the multi-asset efficient frontier\n",
    "    \"\"\"\n",
    "    weights = optimal_weights(n_points, er, cov)\n",
    "    rets = [portfolio_return(w, er) for w in weights]\n",
    "    vols = [portfolio_vol(w, cov) for w in weights]\n",
    "    ef = pd.DataFrame({\n",
    "        \"Returns\": rets, \n",
    "        \"Volatility\": vols\n",
    "    })\n",
    "    ax = ef.plot.line(x=\"Volatility\", y=\"Returns\", style=style, legend=legend)\n",
    "    if show_cml:\n",
    "        ax.set_xlim(left = 0)\n",
    "        # get MSR\n",
    "        w_msr = msr(riskfree_rate, er, cov)\n",
    "        r_msr = portfolio_return(w_msr, er)\n",
    "        vol_msr = portfolio_vol(w_msr, cov)\n",
    "        # add CML\n",
    "        cml_x = [0, vol_msr]\n",
    "        cml_y = [riskfree_rate, r_msr]\n",
    "        ax.plot(cml_x, cml_y, color='green', marker='o', linestyle='dashed', linewidth=2, markersize=10)\n",
    "    if show_ew:\n",
    "        n = er.shape[0]\n",
    "        w_ew = np.repeat(1/n, n)\n",
    "        r_ew = portfolio_return(w_ew, er)\n",
    "        vol_ew = portfolio_vol(w_ew, cov)\n",
    "        # add EW\n",
    "        ax.plot([vol_ew], [r_ew], color='goldenrod', marker='o', markersize=10)\n",
    "    if show_gmv:\n",
    "        w_gmv = gmv(cov)\n",
    "        r_gmv = portfolio_return(w_gmv, er)\n",
    "        vol_gmv = portfolio_vol(w_gmv, cov)\n",
    "        # add EW\n",
    "        ax.plot([vol_gmv], [r_gmv], color='midnightblue', marker='o', markersize=10)\n",
    "        \n",
    "        return ax"
   ]
  },
  {
   "cell_type": "code",
   "execution_count": 37,
   "metadata": {},
   "outputs": [
    {
     "data": {
      "text/plain": [
       "<matplotlib.axes._subplots.AxesSubplot at 0x1d094b90b00>"
      ]
     },
     "execution_count": 37,
     "metadata": {},
     "output_type": "execute_result"
    },
    {
     "data": {
      "image/png": "[encoded data removed]",
      "text/plain": [
       "<Figure size 432x288 with 1 Axes>"
      ]
     },
     "metadata": {
      "needs_background": "light"
     },
     "output_type": "display_data"
    }
   ],
   "source": [
    "plot_ef(20, er, cov, show_cml=True, riskfree_rate=0.03, show_ew=True, show_gmv=True)"
   ]
  }
 ],
 "metadata": {
  "kernelspec": {
   "display_name": "Python 3",
   "language": "python",
   "name": "python3"
  },
  "language_info": {
   "codemirror_mode": {
    "name": "ipython",
    "version": 3
   },
   "file_extension": ".py",
   "mimetype": "text/x-python",
   "name": "python",
   "nbconvert_exporter": "python",
   "pygments_lexer": "ipython3",
   "version": "3.7.1"
  },
  "toc": {
   "base_numbering": 1,
   "nav_menu": {},
   "number_sections": true,
   "sideBar": true,
   "skip_h1_title": true,
   "title_cell": "Table of Contents",
   "title_sidebar": "Contents",
   "toc_cell": true,
   "toc_position": {},
   "toc_section_display": true,
   "toc_window_display": false
  },
  "varInspector": {
   "cols": {
    "lenName": 16,
    "lenType": 16,
    "lenVar": 40
   },
   "kernels_config": {
    "python": {
     "delete_cmd_postfix": "",
     "delete_cmd_prefix": "del ",
     "library": "var_list.py",
     "varRefreshCmd": "print(var_dic_list())"
    },
    "r": {
     "delete_cmd_postfix": ") ",
     "delete_cmd_prefix": "rm(",
     "library": "var_list.r",
     "varRefreshCmd": "cat(var_dic_list()) "
    }
   },
   "types_to_exclude": [
    "module",
    "function",
    "builtin_function_or_method",
    "instance",
    "_Feature"
   ],
   "window_display": false
  }
 },
 "nbformat": 4,
 "nbformat_minor": 2
}
