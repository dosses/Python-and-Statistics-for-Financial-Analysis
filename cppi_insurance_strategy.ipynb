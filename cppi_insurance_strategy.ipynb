{
 "cells": [
  {
   "cell_type": "markdown",
   "metadata": {},
   "source": [
    "# Motivation\n",
    "\n",
    "**Diversification** eliminates unrewarded idiosyncratic risks. The investor is left with systematic (market) risk. This is great, but it has limits: it does not work so good during severe market situations, as the correlations across assets increases as the market drops. Think of the crashes. It does not help to be diversified if all your portfolio positions are going down.\n",
    "\n",
    "**Hedging** (i.e. avoiding risk taking) is the **only effective way** to obtain downside protection. **Problem with hedging** - one must give up on the upside at the same time as he gives up on the downside. Thus, **Hedging is more suited for wealthy investors**, who can secure all their liabilities (& goals) with a current contribution. **Insurance** is dynamic hedging. Offers the best of both worlds (Diversification & Hedging). \n",
    "\n",
    "In this notebook we will look at a popular **insurance** strategy: **CPPI**.\n"
   ]
  },
  {
   "cell_type": "markdown",
   "metadata": {
    "toc": true
   },
   "source": [
    "<h1>Table of Contents<span class=\"tocSkip\"></span></h1>\n",
    "<div class=\"toc\"><ul class=\"toc-item\"><li><span><a href=\"#CPPI-overview\" data-toc-modified-id=\"CPPI-overview-1\"><span class=\"toc-item-num\">1&nbsp;&nbsp;</span>CPPI overview</a></span></li><li><span><a href=\"#Implementing-Portfolio-Insurance-(CPPI)-and-Drawdown-Constraints\" data-toc-modified-id=\"Implementing-Portfolio-Insurance-(CPPI)-and-Drawdown-Constraints-2\"><span class=\"toc-item-num\">2&nbsp;&nbsp;</span>Implementing Portfolio Insurance (CPPI) and Drawdown Constraints</a></span><ul class=\"toc-item\"><li><span><a href=\"#Import-and-explore-data\" data-toc-modified-id=\"Import-and-explore-data-2.1\"><span class=\"toc-item-num\">2.1&nbsp;&nbsp;</span>Import and explore data</a></span></li><li><span><a href=\"#Set-CPPI-parameters\" data-toc-modified-id=\"Set-CPPI-parameters-2.2\"><span class=\"toc-item-num\">2.2&nbsp;&nbsp;</span>Set CPPI parameters</a></span></li><li><span><a href=\"#CPPI-results\" data-toc-modified-id=\"CPPI-results-2.3\"><span class=\"toc-item-num\">2.3&nbsp;&nbsp;</span>CPPI results</a></span></li><li><span><a href=\"#Static-Floor-limitations\" data-toc-modified-id=\"Static-Floor-limitations-2.4\"><span class=\"toc-item-num\">2.4&nbsp;&nbsp;</span>Static Floor limitations</a></span></li></ul></li><li><span><a href=\"#Dynamic-Floor---Explicitly-Limiting-Drawdowns\" data-toc-modified-id=\"Dynamic-Floor---Explicitly-Limiting-Drawdowns-3\"><span class=\"toc-item-num\">3&nbsp;&nbsp;</span>Dynamic Floor - Explicitly Limiting Drawdowns</a></span><ul class=\"toc-item\"><li><span><a href=\"#Dynamic-CPPI-on-industry-returns\" data-toc-modified-id=\"Dynamic-CPPI-on-industry-returns-3.1\"><span class=\"toc-item-num\">3.1&nbsp;&nbsp;</span>Dynamic CPPI on industry returns</a></span></li><li><span><a href=\"#Dynamic-CPPI-on-total-market-returns\" data-toc-modified-id=\"Dynamic-CPPI-on-total-market-returns-3.2\"><span class=\"toc-item-num\">3.2&nbsp;&nbsp;</span>Dynamic CPPI on total market returns</a></span></li></ul></li></ul></div>"
   ]
  },
  {
   "cell_type": "markdown",
   "metadata": {},
   "source": [
    "## CPPI overview\n",
    "\n",
    "Constant-proportion portfolio insurance (CPPI) is an asset allocation strategy with a focus on dynamic risk-control. The strategy actively allocates between two asset classes - a riskless asset and a risky asset which could be from equity, hedge funds, funds, equity or commodity indices etc. In rising markets the strategy allocates more towards the risky asset while in falling market, the strategy allocates more towards the safe asset. \n",
    "\n",
    "CPPIs are also one of the most popular derivative products because of their capital protection feature. Although CPPIs were first developed for the retail investors, they are now popular even with pension funds and insurance companies as the structure still ensures minimum future cash flow required by these industries.\n",
    "\n",
    "![CPPI](data/cppi/cppi.png)"
   ]
  },
  {
   "attachments": {},
   "cell_type": "markdown",
   "metadata": {},
   "source": [
    "- CPPI procedure allows for the construction of Convex Payoffs.\n",
    "- CPPI procedure dynamically allocates total assets to a risky asset and a safe asset (downside protection + upside potential).\n",
    "- Your Wealth level is your current asset value (CPPI). \n",
    "- Floor (F) is the minimum level for your assets (you don't want to go below floor). \n",
    "- Cushion (C) is the difference between your asset value and the floor. Cushion represents how much you can put at risk. $C = CPPI - F$\n",
    "\n",
    "---\n",
    "**CPPI strategy**:\n",
    "\n",
    "At every point of time you going to look at your cushion, and you going to allocate to risky asset in multiple to that cushion. As the cushion goes to zero, your actual allocation is multiplier(M) times 0.\n",
    "\n",
    "---\n",
    "**Example**:\n",
    "\n",
    "- M = 3\n",
    "- Wealth preservation floor = 80%\n",
    "\n",
    "Initial investment in risky asset is $3\\times(100-80) = 60\\%$.\n",
    "\n",
    "Initial investment in safe asset is: $(100-60) = 40\\%$.\n",
    "\n",
    "---\n",
    "**Practical constraints (GAP risk)**:\n",
    "\n",
    "In practice, due to transaction costs, one might not be able to trade on a daily basis. Thus, it is possible to run into **GAP risk** - risk of breaching the floor because of discrete trading. It materializes if loss on risky portfolio compared to your safe component is higher than 1/M.\n",
    "\n",
    "---\n",
    "**Avoiding GAP risk**:\n",
    "\n",
    "To avoid GAP risk it is recommended to calibrate the multiplier as a function of the maximum potential loss within a given trading interval.\n",
    "\n",
    "---\n",
    "**Adding CAP next to a FLOOR**:\n",
    "\n",
    "Strategy can also introduce a **CAP**. As floor can be seen as the minimum amount of wealth investor would like to protect, CAP is the maximum amount of wealth investor would like to protect. \n",
    "\n",
    "Strategy: reduce the risk as you approach the CAP. This strategy is pretty convenient and useful in situations where investors have a goal or target in mind, and they have little incentive to go beyond the target while implementing the strategy would reduce the cost of downside protection.\n",
    "\n",
    "---\n",
    "**Question**: What is the initial allocation to the risky asset for a portfolio starting at $100, with a multiplier equal to 4, a wealth preservation floor set at 90% and a cap set at 105%?\n",
    "\n",
    "**Answer**: The portfolio initial value is closer to the cap than it is to the floor. In this case, the investment in risky asset is 4x(105%-100%)=20%."
   ]
  },
  {
   "cell_type": "markdown",
   "metadata": {},
   "source": [
    "## Implementing Portfolio Insurance (CPPI) and Drawdown Constraints"
   ]
  },
  {
   "cell_type": "code",
   "execution_count": 1,
   "metadata": {},
   "outputs": [],
   "source": [
    "# Load modules:\n",
    "import pandas as pd\n",
    "import numpy as np\n",
    "import matplotlib.pyplot as plt\n",
    "\n",
    "%matplotlib inline\n",
    "\n",
    "# Custom-built module\n",
    "import cppi_kit as ck"
   ]
  },
  {
   "cell_type": "markdown",
   "metadata": {},
   "source": [
    "We'll start by implementing the basic Constant Proportion Portfolio Insurance dynamic risk budgeting algorithm, and test it against different portfolios.\n",
    "\n",
    "### Import and explore data\n",
    "Let's start by importing a dataset. We take the returns of 30 different industry portfolios, retrieved from Fama-French data library.\n",
    "\n",
    "Fama-French Data Library can be accessed through [here.](http://mba.tuck.dartmouth.edu/pages/faculty/ken.french/data_library.html)"
   ]
  },
  {
   "cell_type": "code",
   "execution_count": 2,
   "metadata": {},
   "outputs": [],
   "source": [
    "# Load the industry returns\n",
    "ind_return = ck.get_ind_returns()\n",
    "# Load the 30 industry portfolio data and derive the returns of a capweighted total market index\n",
    "tmi_return = ck.get_total_market_index_returns()"
   ]
  },
  {
   "cell_type": "code",
   "execution_count": 3,
   "metadata": {
    "cell_style": "split"
   },
   "outputs": [
    {
     "data": {
      "text/html": [
       "<div>\n",
       "<style scoped>\n",
       "    .dataframe tbody tr th:only-of-type {\n",
       "        vertical-align: middle;\n",
       "    }\n",
       "\n",
       "    .dataframe tbody tr th {\n",
       "        vertical-align: top;\n",
       "    }\n",
       "\n",
       "    .dataframe thead th {\n",
       "        text-align: right;\n",
       "    }\n",
       "</style>\n",
       "<table border=\"1\" class=\"dataframe\">\n",
       "  <thead>\n",
       "    <tr style=\"text-align: right;\">\n",
       "      <th></th>\n",
       "      <th>Food</th>\n",
       "      <th>Beer</th>\n",
       "      <th>Smoke</th>\n",
       "      <th>Games</th>\n",
       "      <th>Books</th>\n",
       "      <th>Hshld</th>\n",
       "      <th>Clths</th>\n",
       "      <th>Hlth</th>\n",
       "      <th>Chems</th>\n",
       "      <th>Txtls</th>\n",
       "      <th>...</th>\n",
       "      <th>Telcm</th>\n",
       "      <th>Servs</th>\n",
       "      <th>BusEq</th>\n",
       "      <th>Paper</th>\n",
       "      <th>Trans</th>\n",
       "      <th>Whlsl</th>\n",
       "      <th>Rtail</th>\n",
       "      <th>Meals</th>\n",
       "      <th>Fin</th>\n",
       "      <th>Other</th>\n",
       "    </tr>\n",
       "  </thead>\n",
       "  <tbody>\n",
       "    <tr>\n",
       "      <td>1926-07</td>\n",
       "      <td>0.0056</td>\n",
       "      <td>-0.0519</td>\n",
       "      <td>0.0129</td>\n",
       "      <td>0.0293</td>\n",
       "      <td>0.1097</td>\n",
       "      <td>-0.0048</td>\n",
       "      <td>0.0808</td>\n",
       "      <td>0.0177</td>\n",
       "      <td>0.0814</td>\n",
       "      <td>0.0039</td>\n",
       "      <td>...</td>\n",
       "      <td>0.0083</td>\n",
       "      <td>0.0922</td>\n",
       "      <td>0.0206</td>\n",
       "      <td>0.0770</td>\n",
       "      <td>0.0193</td>\n",
       "      <td>-0.2379</td>\n",
       "      <td>0.0007</td>\n",
       "      <td>0.0187</td>\n",
       "      <td>0.0037</td>\n",
       "      <td>0.0520</td>\n",
       "    </tr>\n",
       "    <tr>\n",
       "      <td>1926-08</td>\n",
       "      <td>0.0259</td>\n",
       "      <td>0.2703</td>\n",
       "      <td>0.0650</td>\n",
       "      <td>0.0055</td>\n",
       "      <td>0.1001</td>\n",
       "      <td>-0.0358</td>\n",
       "      <td>-0.0251</td>\n",
       "      <td>0.0425</td>\n",
       "      <td>0.0550</td>\n",
       "      <td>0.0814</td>\n",
       "      <td>...</td>\n",
       "      <td>0.0217</td>\n",
       "      <td>0.0202</td>\n",
       "      <td>0.0439</td>\n",
       "      <td>-0.0238</td>\n",
       "      <td>0.0488</td>\n",
       "      <td>0.0539</td>\n",
       "      <td>-0.0075</td>\n",
       "      <td>-0.0013</td>\n",
       "      <td>0.0446</td>\n",
       "      <td>0.0676</td>\n",
       "    </tr>\n",
       "    <tr>\n",
       "      <td>1926-09</td>\n",
       "      <td>0.0116</td>\n",
       "      <td>0.0402</td>\n",
       "      <td>0.0126</td>\n",
       "      <td>0.0658</td>\n",
       "      <td>-0.0099</td>\n",
       "      <td>0.0073</td>\n",
       "      <td>-0.0051</td>\n",
       "      <td>0.0069</td>\n",
       "      <td>0.0533</td>\n",
       "      <td>0.0231</td>\n",
       "      <td>...</td>\n",
       "      <td>0.0241</td>\n",
       "      <td>0.0225</td>\n",
       "      <td>0.0019</td>\n",
       "      <td>-0.0554</td>\n",
       "      <td>0.0005</td>\n",
       "      <td>-0.0787</td>\n",
       "      <td>0.0025</td>\n",
       "      <td>-0.0056</td>\n",
       "      <td>-0.0123</td>\n",
       "      <td>-0.0386</td>\n",
       "    </tr>\n",
       "    <tr>\n",
       "      <td>1926-10</td>\n",
       "      <td>-0.0306</td>\n",
       "      <td>-0.0331</td>\n",
       "      <td>0.0106</td>\n",
       "      <td>-0.0476</td>\n",
       "      <td>0.0947</td>\n",
       "      <td>-0.0468</td>\n",
       "      <td>0.0012</td>\n",
       "      <td>-0.0057</td>\n",
       "      <td>-0.0476</td>\n",
       "      <td>0.0100</td>\n",
       "      <td>...</td>\n",
       "      <td>-0.0011</td>\n",
       "      <td>-0.0200</td>\n",
       "      <td>-0.0109</td>\n",
       "      <td>-0.0508</td>\n",
       "      <td>-0.0264</td>\n",
       "      <td>-0.1538</td>\n",
       "      <td>-0.0220</td>\n",
       "      <td>-0.0411</td>\n",
       "      <td>-0.0516</td>\n",
       "      <td>-0.0849</td>\n",
       "    </tr>\n",
       "    <tr>\n",
       "      <td>1926-11</td>\n",
       "      <td>0.0635</td>\n",
       "      <td>0.0729</td>\n",
       "      <td>0.0455</td>\n",
       "      <td>0.0166</td>\n",
       "      <td>-0.0580</td>\n",
       "      <td>-0.0054</td>\n",
       "      <td>0.0187</td>\n",
       "      <td>0.0542</td>\n",
       "      <td>0.0520</td>\n",
       "      <td>0.0311</td>\n",
       "      <td>...</td>\n",
       "      <td>0.0163</td>\n",
       "      <td>0.0377</td>\n",
       "      <td>0.0364</td>\n",
       "      <td>0.0384</td>\n",
       "      <td>0.0160</td>\n",
       "      <td>0.0467</td>\n",
       "      <td>0.0652</td>\n",
       "      <td>0.0433</td>\n",
       "      <td>0.0224</td>\n",
       "      <td>0.0400</td>\n",
       "    </tr>\n",
       "    <tr>\n",
       "      <td>...</td>\n",
       "      <td>...</td>\n",
       "      <td>...</td>\n",
       "      <td>...</td>\n",
       "      <td>...</td>\n",
       "      <td>...</td>\n",
       "      <td>...</td>\n",
       "      <td>...</td>\n",
       "      <td>...</td>\n",
       "      <td>...</td>\n",
       "      <td>...</td>\n",
       "      <td>...</td>\n",
       "      <td>...</td>\n",
       "      <td>...</td>\n",
       "      <td>...</td>\n",
       "      <td>...</td>\n",
       "      <td>...</td>\n",
       "      <td>...</td>\n",
       "      <td>...</td>\n",
       "      <td>...</td>\n",
       "      <td>...</td>\n",
       "      <td>...</td>\n",
       "    </tr>\n",
       "    <tr>\n",
       "      <td>2018-08</td>\n",
       "      <td>-0.0038</td>\n",
       "      <td>-0.0186</td>\n",
       "      <td>-0.0543</td>\n",
       "      <td>0.0289</td>\n",
       "      <td>-0.0447</td>\n",
       "      <td>0.0254</td>\n",
       "      <td>0.0526</td>\n",
       "      <td>0.0446</td>\n",
       "      <td>0.0001</td>\n",
       "      <td>0.0380</td>\n",
       "      <td>...</td>\n",
       "      <td>0.0295</td>\n",
       "      <td>0.0524</td>\n",
       "      <td>0.0993</td>\n",
       "      <td>-0.0034</td>\n",
       "      <td>0.0291</td>\n",
       "      <td>0.0366</td>\n",
       "      <td>0.0911</td>\n",
       "      <td>0.0364</td>\n",
       "      <td>0.0245</td>\n",
       "      <td>0.0299</td>\n",
       "    </tr>\n",
       "    <tr>\n",
       "      <td>2018-09</td>\n",
       "      <td>-0.0032</td>\n",
       "      <td>0.0019</td>\n",
       "      <td>0.0537</td>\n",
       "      <td>-0.0009</td>\n",
       "      <td>-0.0221</td>\n",
       "      <td>0.0107</td>\n",
       "      <td>0.0130</td>\n",
       "      <td>0.0199</td>\n",
       "      <td>-0.0287</td>\n",
       "      <td>-0.0638</td>\n",
       "      <td>...</td>\n",
       "      <td>0.0174</td>\n",
       "      <td>-0.0037</td>\n",
       "      <td>-0.0033</td>\n",
       "      <td>-0.0030</td>\n",
       "      <td>0.0105</td>\n",
       "      <td>-0.0148</td>\n",
       "      <td>0.0061</td>\n",
       "      <td>0.0251</td>\n",
       "      <td>-0.0193</td>\n",
       "      <td>0.0116</td>\n",
       "    </tr>\n",
       "    <tr>\n",
       "      <td>2018-10</td>\n",
       "      <td>0.0102</td>\n",
       "      <td>-0.0157</td>\n",
       "      <td>0.0790</td>\n",
       "      <td>-0.1596</td>\n",
       "      <td>-0.0666</td>\n",
       "      <td>-0.0051</td>\n",
       "      <td>-0.1014</td>\n",
       "      <td>-0.0884</td>\n",
       "      <td>-0.1250</td>\n",
       "      <td>-0.2579</td>\n",
       "      <td>...</td>\n",
       "      <td>-0.0050</td>\n",
       "      <td>-0.0920</td>\n",
       "      <td>-0.0806</td>\n",
       "      <td>-0.0982</td>\n",
       "      <td>-0.0975</td>\n",
       "      <td>-0.0788</td>\n",
       "      <td>-0.1021</td>\n",
       "      <td>-0.0171</td>\n",
       "      <td>-0.0545</td>\n",
       "      <td>-0.0599</td>\n",
       "    </tr>\n",
       "    <tr>\n",
       "      <td>2018-11</td>\n",
       "      <td>0.0272</td>\n",
       "      <td>0.0579</td>\n",
       "      <td>-0.0843</td>\n",
       "      <td>-0.0065</td>\n",
       "      <td>0.0325</td>\n",
       "      <td>0.0644</td>\n",
       "      <td>-0.0099</td>\n",
       "      <td>0.0632</td>\n",
       "      <td>0.0496</td>\n",
       "      <td>0.0292</td>\n",
       "      <td>...</td>\n",
       "      <td>0.0254</td>\n",
       "      <td>0.0129</td>\n",
       "      <td>-0.0505</td>\n",
       "      <td>0.0822</td>\n",
       "      <td>0.0617</td>\n",
       "      <td>0.0318</td>\n",
       "      <td>0.0159</td>\n",
       "      <td>0.0616</td>\n",
       "      <td>0.0289</td>\n",
       "      <td>0.0348</td>\n",
       "    </tr>\n",
       "    <tr>\n",
       "      <td>2018-12</td>\n",
       "      <td>-0.0973</td>\n",
       "      <td>-0.0969</td>\n",
       "      <td>-0.1580</td>\n",
       "      <td>-0.0824</td>\n",
       "      <td>-0.1535</td>\n",
       "      <td>-0.0557</td>\n",
       "      <td>-0.0728</td>\n",
       "      <td>-0.0840</td>\n",
       "      <td>-0.0776</td>\n",
       "      <td>-0.1009</td>\n",
       "      <td>...</td>\n",
       "      <td>-0.0884</td>\n",
       "      <td>-0.0765</td>\n",
       "      <td>-0.0923</td>\n",
       "      <td>-0.0863</td>\n",
       "      <td>-0.1519</td>\n",
       "      <td>-0.1121</td>\n",
       "      <td>-0.0919</td>\n",
       "      <td>-0.0628</td>\n",
       "      <td>-0.1144</td>\n",
       "      <td>-0.0693</td>\n",
       "    </tr>\n",
       "  </tbody>\n",
       "</table>\n",
       "<p>1110 rows × 30 columns</p>\n",
       "</div>"
      ],
      "text/plain": [
       "           Food    Beer   Smoke   Games   Books   Hshld   Clths    Hlth  \\\n",
       "1926-07  0.0056 -0.0519  0.0129  0.0293  0.1097 -0.0048  0.0808  0.0177   \n",
       "1926-08  0.0259  0.2703  0.0650  0.0055  0.1001 -0.0358 -0.0251  0.0425   \n",
       "1926-09  0.0116  0.0402  0.0126  0.0658 -0.0099  0.0073 -0.0051  0.0069   \n",
       "1926-10 -0.0306 -0.0331  0.0106 -0.0476  0.0947 -0.0468  0.0012 -0.0057   \n",
       "1926-11  0.0635  0.0729  0.0455  0.0166 -0.0580 -0.0054  0.0187  0.0542   \n",
       "...         ...     ...     ...     ...     ...     ...     ...     ...   \n",
       "2018-08 -0.0038 -0.0186 -0.0543  0.0289 -0.0447  0.0254  0.0526  0.0446   \n",
       "2018-09 -0.0032  0.0019  0.0537 -0.0009 -0.0221  0.0107  0.0130  0.0199   \n",
       "2018-10  0.0102 -0.0157  0.0790 -0.1596 -0.0666 -0.0051 -0.1014 -0.0884   \n",
       "2018-11  0.0272  0.0579 -0.0843 -0.0065  0.0325  0.0644 -0.0099  0.0632   \n",
       "2018-12 -0.0973 -0.0969 -0.1580 -0.0824 -0.1535 -0.0557 -0.0728 -0.0840   \n",
       "\n",
       "          Chems   Txtls  ...   Telcm   Servs   BusEq   Paper   Trans   Whlsl  \\\n",
       "1926-07  0.0814  0.0039  ...  0.0083  0.0922  0.0206  0.0770  0.0193 -0.2379   \n",
       "1926-08  0.0550  0.0814  ...  0.0217  0.0202  0.0439 -0.0238  0.0488  0.0539   \n",
       "1926-09  0.0533  0.0231  ...  0.0241  0.0225  0.0019 -0.0554  0.0005 -0.0787   \n",
       "1926-10 -0.0476  0.0100  ... -0.0011 -0.0200 -0.0109 -0.0508 -0.0264 -0.1538   \n",
       "1926-11  0.0520  0.0311  ...  0.0163  0.0377  0.0364  0.0384  0.0160  0.0467   \n",
       "...         ...     ...  ...     ...     ...     ...     ...     ...     ...   \n",
       "2018-08  0.0001  0.0380  ...  0.0295  0.0524  0.0993 -0.0034  0.0291  0.0366   \n",
       "2018-09 -0.0287 -0.0638  ...  0.0174 -0.0037 -0.0033 -0.0030  0.0105 -0.0148   \n",
       "2018-10 -0.1250 -0.2579  ... -0.0050 -0.0920 -0.0806 -0.0982 -0.0975 -0.0788   \n",
       "2018-11  0.0496  0.0292  ...  0.0254  0.0129 -0.0505  0.0822  0.0617  0.0318   \n",
       "2018-12 -0.0776 -0.1009  ... -0.0884 -0.0765 -0.0923 -0.0863 -0.1519 -0.1121   \n",
       "\n",
       "          Rtail   Meals     Fin   Other  \n",
       "1926-07  0.0007  0.0187  0.0037  0.0520  \n",
       "1926-08 -0.0075 -0.0013  0.0446  0.0676  \n",
       "1926-09  0.0025 -0.0056 -0.0123 -0.0386  \n",
       "1926-10 -0.0220 -0.0411 -0.0516 -0.0849  \n",
       "1926-11  0.0652  0.0433  0.0224  0.0400  \n",
       "...         ...     ...     ...     ...  \n",
       "2018-08  0.0911  0.0364  0.0245  0.0299  \n",
       "2018-09  0.0061  0.0251 -0.0193  0.0116  \n",
       "2018-10 -0.1021 -0.0171 -0.0545 -0.0599  \n",
       "2018-11  0.0159  0.0616  0.0289  0.0348  \n",
       "2018-12 -0.0919 -0.0628 -0.1144 -0.0693  \n",
       "\n",
       "[1110 rows x 30 columns]"
      ]
     },
     "execution_count": 3,
     "metadata": {},
     "output_type": "execute_result"
    }
   ],
   "source": [
    "ind_return"
   ]
  },
  {
   "cell_type": "code",
   "execution_count": 4,
   "metadata": {
    "cell_style": "split"
   },
   "outputs": [
    {
     "data": {
      "text/plain": [
       "1926-07    0.031375\n",
       "1926-08    0.028957\n",
       "1926-09    0.005566\n",
       "1926-10   -0.028504\n",
       "1926-11    0.028039\n",
       "             ...   \n",
       "2018-08    0.036951\n",
       "2018-09    0.002108\n",
       "2018-10   -0.074292\n",
       "2018-11    0.019003\n",
       "2018-12   -0.092911\n",
       "Freq: M, Length: 1110, dtype: float64"
      ]
     },
     "execution_count": 4,
     "metadata": {},
     "output_type": "execute_result"
    }
   ],
   "source": [
    "tmi_return"
   ]
  },
  {
   "cell_type": "markdown",
   "metadata": {},
   "source": [
    "### Set CPPI parameters"
   ]
  },
  {
   "cell_type": "markdown",
   "metadata": {},
   "source": [
    "The CPPI algorithm is surprisingly simple to implement. This takes as input, the returns of a risky asset and a safe asset, along with the initial wealth to invest at the start, along with a floor that should not be violated."
   ]
  },
  {
   "cell_type": "markdown",
   "metadata": {},
   "source": [
    "**Risky & Safe asset returns**\n",
    "\n",
    "Let's assume we chose to invest into three different industries: Steel, Finance & Beer."
   ]
  },
  {
   "cell_type": "code",
   "execution_count": 5,
   "metadata": {},
   "outputs": [],
   "source": [
    "risky_r = ind_return[\"2000\":][[\"Steel\", \"Fin\", \"Beer\"]]\n",
    "\n",
    "# Create a dataframe for safe asset with the same shape as risky_r\n",
    "safe_r = pd.DataFrame().reindex_like(risky_r)\n",
    "# Assume the safe asset is paying 3% per year\n",
    "safe_r.values[:] = 0.03/12 # fast way to set all values to a number"
   ]
  },
  {
   "cell_type": "code",
   "execution_count": 6,
   "metadata": {
    "cell_style": "split"
   },
   "outputs": [
    {
     "data": {
      "text/html": [
       "<div>\n",
       "<style scoped>\n",
       "    .dataframe tbody tr th:only-of-type {\n",
       "        vertical-align: middle;\n",
       "    }\n",
       "\n",
       "    .dataframe tbody tr th {\n",
       "        vertical-align: top;\n",
       "    }\n",
       "\n",
       "    .dataframe thead th {\n",
       "        text-align: right;\n",
       "    }\n",
       "</style>\n",
       "<table border=\"1\" class=\"dataframe\">\n",
       "  <thead>\n",
       "    <tr style=\"text-align: right;\">\n",
       "      <th></th>\n",
       "      <th>Steel</th>\n",
       "      <th>Fin</th>\n",
       "      <th>Beer</th>\n",
       "    </tr>\n",
       "  </thead>\n",
       "  <tbody>\n",
       "    <tr>\n",
       "      <td>2000-01</td>\n",
       "      <td>-0.0277</td>\n",
       "      <td>-0.0442</td>\n",
       "      <td>-0.0228</td>\n",
       "    </tr>\n",
       "    <tr>\n",
       "      <td>2000-02</td>\n",
       "      <td>0.0684</td>\n",
       "      <td>-0.0849</td>\n",
       "      <td>-0.1164</td>\n",
       "    </tr>\n",
       "    <tr>\n",
       "      <td>2000-03</td>\n",
       "      <td>0.0349</td>\n",
       "      <td>0.1669</td>\n",
       "      <td>0.0013</td>\n",
       "    </tr>\n",
       "    <tr>\n",
       "      <td>2000-04</td>\n",
       "      <td>-0.0084</td>\n",
       "      <td>-0.0425</td>\n",
       "      <td>0.0368</td>\n",
       "    </tr>\n",
       "    <tr>\n",
       "      <td>2000-05</td>\n",
       "      <td>-0.0492</td>\n",
       "      <td>0.0506</td>\n",
       "      <td>0.1187</td>\n",
       "    </tr>\n",
       "  </tbody>\n",
       "</table>\n",
       "</div>"
      ],
      "text/plain": [
       "          Steel     Fin    Beer\n",
       "2000-01 -0.0277 -0.0442 -0.0228\n",
       "2000-02  0.0684 -0.0849 -0.1164\n",
       "2000-03  0.0349  0.1669  0.0013\n",
       "2000-04 -0.0084 -0.0425  0.0368\n",
       "2000-05 -0.0492  0.0506  0.1187"
      ]
     },
     "execution_count": 6,
     "metadata": {},
     "output_type": "execute_result"
    }
   ],
   "source": [
    "risky_r.head()"
   ]
  },
  {
   "cell_type": "code",
   "execution_count": 7,
   "metadata": {
    "cell_style": "split"
   },
   "outputs": [
    {
     "data": {
      "text/html": [
       "<div>\n",
       "<style scoped>\n",
       "    .dataframe tbody tr th:only-of-type {\n",
       "        vertical-align: middle;\n",
       "    }\n",
       "\n",
       "    .dataframe tbody tr th {\n",
       "        vertical-align: top;\n",
       "    }\n",
       "\n",
       "    .dataframe thead th {\n",
       "        text-align: right;\n",
       "    }\n",
       "</style>\n",
       "<table border=\"1\" class=\"dataframe\">\n",
       "  <thead>\n",
       "    <tr style=\"text-align: right;\">\n",
       "      <th></th>\n",
       "      <th>Steel</th>\n",
       "      <th>Fin</th>\n",
       "      <th>Beer</th>\n",
       "    </tr>\n",
       "  </thead>\n",
       "  <tbody>\n",
       "    <tr>\n",
       "      <td>2000-01</td>\n",
       "      <td>0.0025</td>\n",
       "      <td>0.0025</td>\n",
       "      <td>0.0025</td>\n",
       "    </tr>\n",
       "    <tr>\n",
       "      <td>2000-02</td>\n",
       "      <td>0.0025</td>\n",
       "      <td>0.0025</td>\n",
       "      <td>0.0025</td>\n",
       "    </tr>\n",
       "    <tr>\n",
       "      <td>2000-03</td>\n",
       "      <td>0.0025</td>\n",
       "      <td>0.0025</td>\n",
       "      <td>0.0025</td>\n",
       "    </tr>\n",
       "    <tr>\n",
       "      <td>2000-04</td>\n",
       "      <td>0.0025</td>\n",
       "      <td>0.0025</td>\n",
       "      <td>0.0025</td>\n",
       "    </tr>\n",
       "    <tr>\n",
       "      <td>2000-05</td>\n",
       "      <td>0.0025</td>\n",
       "      <td>0.0025</td>\n",
       "      <td>0.0025</td>\n",
       "    </tr>\n",
       "  </tbody>\n",
       "</table>\n",
       "</div>"
      ],
      "text/plain": [
       "          Steel     Fin    Beer\n",
       "2000-01  0.0025  0.0025  0.0025\n",
       "2000-02  0.0025  0.0025  0.0025\n",
       "2000-03  0.0025  0.0025  0.0025\n",
       "2000-04  0.0025  0.0025  0.0025\n",
       "2000-05  0.0025  0.0025  0.0025"
      ]
     },
     "execution_count": 7,
     "metadata": {},
     "output_type": "execute_result"
    }
   ],
   "source": [
    "safe_r.head()"
   ]
  },
  {
   "cell_type": "markdown",
   "metadata": {},
   "source": [
    "**Initial Wealth & Floor**"
   ]
  },
  {
   "cell_type": "code",
   "execution_count": 8,
   "metadata": {},
   "outputs": [],
   "source": [
    "start = 1000 # inital wealth, start at $1000\n",
    "floor = 0.80 # set the floor to 80 percent of the starting value"
   ]
  },
  {
   "cell_type": "markdown",
   "metadata": {},
   "source": [
    "Now, we need to backtest this strategy by starting at the beginning and at every point in time:\n",
    "\n",
    "1. Compute the cushion (asset value minus floor)\n",
    "2. Compute the allocation (based on the multiplier) $M \\cdot Cushion$\n",
    "3. Compute the new asset value based on returns."
   ]
  },
  {
   "cell_type": "code",
   "execution_count": 9,
   "metadata": {},
   "outputs": [],
   "source": [
    "# CPPI parameters\n",
    "dates = risky_r.index\n",
    "n_steps = len(dates)\n",
    "account_value = start\n",
    "floor_value = start*floor\n",
    "m = 3"
   ]
  },
  {
   "cell_type": "code",
   "execution_count": 10,
   "metadata": {},
   "outputs": [],
   "source": [
    "# set up some DataFrames for saving intermediate values\n",
    "account_history = pd.DataFrame().reindex_like(risky_r)\n",
    "risky_w_history = pd.DataFrame().reindex_like(risky_r)\n",
    "cushion_history = pd.DataFrame().reindex_like(risky_r)"
   ]
  },
  {
   "cell_type": "markdown",
   "metadata": {},
   "source": [
    "### CPPI results"
   ]
  },
  {
   "cell_type": "code",
   "execution_count": 11,
   "metadata": {},
   "outputs": [],
   "source": [
    "for step in range(n_steps):\n",
    "    cushion = (account_value - floor_value)/account_value # weight of cushion\n",
    "    risky_w = m*cushion\n",
    "    risky_w = np.minimum(risky_w, 1) # cannot exceed 1.\n",
    "    risky_w = np.maximum(risky_w, 0) # cannot go bellow 0.\n",
    "    safe_w = 1-risky_w\n",
    "    risky_alloc = account_value*risky_w\n",
    "    safe_alloc = account_value*safe_w\n",
    "    # recompute the new account value at the end of this step\n",
    "    account_value = risky_alloc*(1+risky_r.iloc[step]) + safe_alloc*(1+safe_r.iloc[step])\n",
    "    # save the histories for analysis and plotting\n",
    "    cushion_history.iloc[step] = cushion\n",
    "    risky_w_history.iloc[step] = risky_w\n",
    "    account_history.iloc[step] = account_value"
   ]
  },
  {
   "cell_type": "code",
   "execution_count": 12,
   "metadata": {
    "scrolled": true
   },
   "outputs": [
    {
     "data": {
      "text/html": [
       "<div>\n",
       "<style scoped>\n",
       "    .dataframe tbody tr th:only-of-type {\n",
       "        vertical-align: middle;\n",
       "    }\n",
       "\n",
       "    .dataframe tbody tr th {\n",
       "        vertical-align: top;\n",
       "    }\n",
       "\n",
       "    .dataframe thead th {\n",
       "        text-align: right;\n",
       "    }\n",
       "</style>\n",
       "<table border=\"1\" class=\"dataframe\">\n",
       "  <thead>\n",
       "    <tr style=\"text-align: right;\">\n",
       "      <th></th>\n",
       "      <th>Steel</th>\n",
       "      <th>Fin</th>\n",
       "      <th>Beer</th>\n",
       "    </tr>\n",
       "  </thead>\n",
       "  <tbody>\n",
       "    <tr>\n",
       "      <td>2000-01</td>\n",
       "      <td>984.380000</td>\n",
       "      <td>974.480000</td>\n",
       "      <td>987.320000</td>\n",
       "    </tr>\n",
       "    <tr>\n",
       "      <td>2000-02</td>\n",
       "      <td>1023.292876</td>\n",
       "      <td>931.167544</td>\n",
       "      <td>922.971256</td>\n",
       "    </tr>\n",
       "    <tr>\n",
       "      <td>2000-03</td>\n",
       "      <td>1047.555176</td>\n",
       "      <td>998.187296</td>\n",
       "      <td>924.835988</td>\n",
       "    </tr>\n",
       "    <tr>\n",
       "      <td>2000-04</td>\n",
       "      <td>1042.079009</td>\n",
       "      <td>973.927479</td>\n",
       "      <td>939.993701</td>\n",
       "    </tr>\n",
       "    <tr>\n",
       "      <td>2000-05</td>\n",
       "      <td>1007.137753</td>\n",
       "      <td>1001.460033</td>\n",
       "      <td>991.145489</td>\n",
       "    </tr>\n",
       "  </tbody>\n",
       "</table>\n",
       "</div>"
      ],
      "text/plain": [
       "               Steel          Fin        Beer\n",
       "2000-01   984.380000   974.480000  987.320000\n",
       "2000-02  1023.292876   931.167544  922.971256\n",
       "2000-03  1047.555176   998.187296  924.835988\n",
       "2000-04  1042.079009   973.927479  939.993701\n",
       "2000-05  1007.137753  1001.460033  991.145489"
      ]
     },
     "execution_count": 12,
     "metadata": {},
     "output_type": "execute_result"
    }
   ],
   "source": [
    "account_history.head()"
   ]
  },
  {
   "cell_type": "markdown",
   "metadata": {},
   "source": [
    "Risky wealth represents what investor would have if he just invested everything into risky asset."
   ]
  },
  {
   "cell_type": "code",
   "execution_count": 13,
   "metadata": {},
   "outputs": [],
   "source": [
    "risky_wealth = start*(1+risky_r).cumprod()"
   ]
  },
  {
   "cell_type": "code",
   "execution_count": 14,
   "metadata": {},
   "outputs": [
    {
     "data": {
      "image/png": "[encoded data removed]",
      "text/plain": [
       "<Figure size 1008x576 with 1 Axes>"
      ]
     },
     "metadata": {
      "needs_background": "light"
     },
     "output_type": "display_data"
    }
   ],
   "source": [
    "ind = \"Steel\"\n",
    "\n",
    "plt.figure(figsize=(14, 8))\n",
    "plt.title('Insurance with CPPI vs No Insurance')\n",
    "account_history[ind].plot(label = 'Steel, CPPI')\n",
    "risky_wealth[ind].plot(style=\"k:\", label = 'Steel, No Insurance')\n",
    "plt.axhline(y=floor_value, color='r', linestyle='--', label = 'Floor')\n",
    "plt.legend()\n",
    "plt.show()"
   ]
  },
  {
   "cell_type": "markdown",
   "metadata": {},
   "source": [
    "We can clearly see that CPPI strategy protects us from breaching a floor.\n",
    "\n",
    "---\n",
    "\n",
    "**Observing summary statistics**:\n",
    "\n",
    "Let's look at the summary statistics for our risky assets over the period of time.\n",
    "\n",
    "We can see that the drawdowns were quite high for all industries.\n"
   ]
  },
  {
   "cell_type": "code",
   "execution_count": 15,
   "metadata": {},
   "outputs": [
    {
     "data": {
      "text/html": [
       "<div>\n",
       "<style scoped>\n",
       "    .dataframe tbody tr th:only-of-type {\n",
       "        vertical-align: middle;\n",
       "    }\n",
       "\n",
       "    .dataframe tbody tr th {\n",
       "        vertical-align: top;\n",
       "    }\n",
       "\n",
       "    .dataframe thead th {\n",
       "        text-align: right;\n",
       "    }\n",
       "</style>\n",
       "<table border=\"1\" class=\"dataframe\">\n",
       "  <thead>\n",
       "    <tr style=\"text-align: right;\">\n",
       "      <th></th>\n",
       "      <th>Annualized Return</th>\n",
       "      <th>Annualized Vol</th>\n",
       "      <th>Skewness</th>\n",
       "      <th>Kurtosis</th>\n",
       "      <th>Cornish-Fisher VaR (5%)</th>\n",
       "      <th>Historic CVaR (5%)</th>\n",
       "      <th>Sharpe Ratio</th>\n",
       "      <th>Max Drawdown</th>\n",
       "    </tr>\n",
       "  </thead>\n",
       "  <tbody>\n",
       "    <tr>\n",
       "      <td>Steel</td>\n",
       "      <td>-0.002790</td>\n",
       "      <td>0.312368</td>\n",
       "      <td>-0.326334</td>\n",
       "      <td>4.144381</td>\n",
       "      <td>0.150139</td>\n",
       "      <td>0.208117</td>\n",
       "      <td>-0.102567</td>\n",
       "      <td>-0.758017</td>\n",
       "    </tr>\n",
       "    <tr>\n",
       "      <td>Fin</td>\n",
       "      <td>0.055166</td>\n",
       "      <td>0.192909</td>\n",
       "      <td>-0.533218</td>\n",
       "      <td>4.995534</td>\n",
       "      <td>0.091224</td>\n",
       "      <td>0.132175</td>\n",
       "      <td>0.126718</td>\n",
       "      <td>-0.718465</td>\n",
       "    </tr>\n",
       "    <tr>\n",
       "      <td>Beer</td>\n",
       "      <td>0.080598</td>\n",
       "      <td>0.138925</td>\n",
       "      <td>-0.493545</td>\n",
       "      <td>4.173881</td>\n",
       "      <td>0.063015</td>\n",
       "      <td>0.091442</td>\n",
       "      <td>0.354314</td>\n",
       "      <td>-0.271368</td>\n",
       "    </tr>\n",
       "  </tbody>\n",
       "</table>\n",
       "</div>"
      ],
      "text/plain": [
       "       Annualized Return  Annualized Vol  Skewness  Kurtosis  \\\n",
       "Steel          -0.002790        0.312368 -0.326334  4.144381   \n",
       "Fin             0.055166        0.192909 -0.533218  4.995534   \n",
       "Beer            0.080598        0.138925 -0.493545  4.173881   \n",
       "\n",
       "       Cornish-Fisher VaR (5%)  Historic CVaR (5%)  Sharpe Ratio  Max Drawdown  \n",
       "Steel                 0.150139            0.208117     -0.102567     -0.758017  \n",
       "Fin                   0.091224            0.132175      0.126718     -0.718465  \n",
       "Beer                  0.063015            0.091442      0.354314     -0.271368  "
      ]
     },
     "execution_count": 15,
     "metadata": {},
     "output_type": "execute_result"
    }
   ],
   "source": [
    "ck.summary_stats(risky_r)"
   ]
  },
  {
   "cell_type": "markdown",
   "metadata": {},
   "source": [
    "We can see, that by implementing CPPI we were able to reduce the downside risk (measured in drawdown). Although the Sharpe ratio in some cases decreased, but we have to remember - this is an insurance strategy, it is not meant to help with the upside. It is meant to reduce the downside."
   ]
  },
  {
   "cell_type": "code",
   "execution_count": 16,
   "metadata": {},
   "outputs": [
    {
     "data": {
      "text/html": [
       "<div>\n",
       "<style scoped>\n",
       "    .dataframe tbody tr th:only-of-type {\n",
       "        vertical-align: middle;\n",
       "    }\n",
       "\n",
       "    .dataframe tbody tr th {\n",
       "        vertical-align: top;\n",
       "    }\n",
       "\n",
       "    .dataframe thead th {\n",
       "        text-align: right;\n",
       "    }\n",
       "</style>\n",
       "<table border=\"1\" class=\"dataframe\">\n",
       "  <thead>\n",
       "    <tr style=\"text-align: right;\">\n",
       "      <th></th>\n",
       "      <th>Annualized Return</th>\n",
       "      <th>Annualized Vol</th>\n",
       "      <th>Skewness</th>\n",
       "      <th>Kurtosis</th>\n",
       "      <th>Cornish-Fisher VaR (5%)</th>\n",
       "      <th>Historic CVaR (5%)</th>\n",
       "      <th>Sharpe Ratio</th>\n",
       "      <th>Max Drawdown</th>\n",
       "    </tr>\n",
       "  </thead>\n",
       "  <tbody>\n",
       "    <tr>\n",
       "      <td>Steel</td>\n",
       "      <td>-0.005167</td>\n",
       "      <td>0.174180</td>\n",
       "      <td>-1.995143</td>\n",
       "      <td>17.110190</td>\n",
       "      <td>0.091995</td>\n",
       "      <td>0.130153</td>\n",
       "      <td>-0.196750</td>\n",
       "      <td>-0.655198</td>\n",
       "    </tr>\n",
       "    <tr>\n",
       "      <td>Fin</td>\n",
       "      <td>0.040894</td>\n",
       "      <td>0.131678</td>\n",
       "      <td>-0.946504</td>\n",
       "      <td>6.051414</td>\n",
       "      <td>0.065535</td>\n",
       "      <td>0.091621</td>\n",
       "      <td>0.080352</td>\n",
       "      <td>-0.549673</td>\n",
       "    </tr>\n",
       "    <tr>\n",
       "      <td>Beer</td>\n",
       "      <td>0.075544</td>\n",
       "      <td>0.115462</td>\n",
       "      <td>-0.669250</td>\n",
       "      <td>4.760879</td>\n",
       "      <td>0.052923</td>\n",
       "      <td>0.074908</td>\n",
       "      <td>0.383772</td>\n",
       "      <td>-0.259582</td>\n",
       "    </tr>\n",
       "  </tbody>\n",
       "</table>\n",
       "</div>"
      ],
      "text/plain": [
       "       Annualized Return  Annualized Vol  Skewness   Kurtosis  \\\n",
       "Steel          -0.005167        0.174180 -1.995143  17.110190   \n",
       "Fin             0.040894        0.131678 -0.946504   6.051414   \n",
       "Beer            0.075544        0.115462 -0.669250   4.760879   \n",
       "\n",
       "       Cornish-Fisher VaR (5%)  Historic CVaR (5%)  Sharpe Ratio  Max Drawdown  \n",
       "Steel                 0.091995            0.130153     -0.196750     -0.655198  \n",
       "Fin                   0.065535            0.091621      0.080352     -0.549673  \n",
       "Beer                  0.052923            0.074908      0.383772     -0.259582  "
      ]
     },
     "execution_count": 16,
     "metadata": {},
     "output_type": "execute_result"
    }
   ],
   "source": [
    "ck.summary_stats(account_history.pct_change().dropna())"
   ]
  },
  {
   "cell_type": "markdown",
   "metadata": {},
   "source": [
    "### Static Floor limitations\n",
    "\n",
    "We see that at some point, the asset value falls far away from the floor, thus the weight on the risky asset becomes 1.\n"
   ]
  },
  {
   "cell_type": "code",
   "execution_count": 17,
   "metadata": {
    "scrolled": true
   },
   "outputs": [
    {
     "data": {
      "text/plain": [
       "<matplotlib.axes._subplots.AxesSubplot at 0x1a519dbcb38>"
      ]
     },
     "execution_count": 17,
     "metadata": {},
     "output_type": "execute_result"
    },
    {
     "data": {
      "image/png": "[encoded data removed]",
      "text/plain": [
       "<Figure size 432x288 with 1 Axes>"
      ]
     },
     "metadata": {
      "needs_background": "light"
     },
     "output_type": "display_data"
    }
   ],
   "source": [
    "risky_w_history.plot()"
   ]
  },
  {
   "cell_type": "markdown",
   "metadata": {},
   "source": [
    "Let's do the back test for CPPI strategy, looking at the time-series values from 2007, for Steel, Finance and Beer industries."
   ]
  },
  {
   "cell_type": "markdown",
   "metadata": {},
   "source": [
    "Insurance strategies usually help with drawdowns, but they can also be adapted to explictly limit the drawdown.\n",
    "\n",
    "##  Dynamic Floor - Explicitly Limiting Drawdowns\n",
    "\n",
    "**Drawdown constraints** make it so the floor values becomes dynamic which depends on the Peak value. \n",
    "\n",
    "```python\n",
    "def run_cppi(risky_r, safe_r=None, m=3, start=1000, floor=0.8, riskfree_rate=0.03, drawdown=None):\n",
    "    \"\"\"\n",
    "    Run a backtest of the CPPI strategy, given a set of returns for the risky asset\n",
    "    Returns a dictionary containing: Asset Value History, Risk Budget History, Risky Weight History\n",
    "    \"\"\"\n",
    "    # set up the CPPI parameters\n",
    "    dates = risky_r.index\n",
    "    n_steps = len(dates)\n",
    "    account_value = start\n",
    "    floor_value = start*floor\n",
    "    peak = account_value\n",
    "    if isinstance(risky_r, pd.Series): \n",
    "        risky_r = pd.DataFrame(risky_r, columns=[\"R\"])\n",
    "\n",
    "    if safe_r is None:\n",
    "        safe_r = pd.DataFrame().reindex_like(risky_r)\n",
    "        safe_r.values[:] = riskfree_rate/12 # fast way to set all values to a number\n",
    "    # set up some DataFrames for saving intermediate values\n",
    "    account_history = pd.DataFrame().reindex_like(risky_r)\n",
    "    risky_w_history = pd.DataFrame().reindex_like(risky_r)\n",
    "    cushion_history = pd.DataFrame().reindex_like(risky_r)\n",
    "    floorval_history = pd.DataFrame().reindex_like(risky_r)\n",
    "    peak_history = pd.DataFrame().reindex_like(risky_r)\n",
    "\n",
    "    for step in range(n_steps):\n",
    "        if drawdown is not None:\n",
    "            peak = np.maximum(peak, account_value)\n",
    "            floor_value = peak*(1-drawdown)\n",
    "        cushion = (account_value - floor_value)/account_value\n",
    "        risky_w = m*cushion\n",
    "        risky_w = np.minimum(risky_w, 1)\n",
    "        risky_w = np.maximum(risky_w, 0)\n",
    "        safe_w = 1-risky_w\n",
    "        risky_alloc = account_value*risky_w\n",
    "        safe_alloc = account_value*safe_w\n",
    "        # recompute the new account value at the end of this step\n",
    "        account_value = risky_alloc*(1+risky_r.iloc[step]) + safe_alloc*(1+safe_r.iloc[step])\n",
    "        # save the histories for analysis and plotting\n",
    "        cushion_history.iloc[step] = cushion\n",
    "        risky_w_history.iloc[step] = risky_w\n",
    "        account_history.iloc[step] = account_value\n",
    "        floorval_history.iloc[step] = floor_value\n",
    "        peak_history.iloc[step] = peak\n",
    "    risky_wealth = start*(1+risky_r).cumprod()\n",
    "    backtest_result = {\n",
    "        \"Wealth\": account_history,\n",
    "        \"Risky Wealth\": risky_wealth, \n",
    "        \"Risk Budget\": cushion_history,\n",
    "        \"Risky Allocation\": risky_w_history,\n",
    "        \"m\": m,\n",
    "        \"start\": start,\n",
    "        \"floor\": floor,\n",
    "        \"risky_r\":risky_r,\n",
    "        \"safe_r\": safe_r,\n",
    "        \"drawdown\": drawdown,\n",
    "        \"peak\": peak_history,\n",
    "        \"floor\": floorval_history\n",
    "    }\n",
    "    return backtest_result\n",
    "```\n",
    "\n",
    "### Dynamic CPPI on industry returns\n",
    "\n",
    "Run CPPI and limit the drawdown to 25%:"
   ]
  },
  {
   "cell_type": "code",
   "execution_count": 21,
   "metadata": {},
   "outputs": [
    {
     "data": {
      "text/plain": [
       "<matplotlib.axes._subplots.AxesSubplot at 0x1a519bf81d0>"
      ]
     },
     "execution_count": 21,
     "metadata": {},
     "output_type": "execute_result"
    },
    {
     "data": {
      "image/png": "[encoded data removed]",
      "text/plain": [
       "<Figure size 864x360 with 1 Axes>"
      ]
     },
     "metadata": {
      "needs_background": "light"
     },
     "output_type": "display_data"
    }
   ],
   "source": [
    "btr = ck.run_cppi(ind_return[\"2007\":][[\"Steel\", \"Fin\", \"Beer\"]], drawdown=0.25)\n",
    "ax = btr[\"Wealth\"].plot(figsize=(12,5))\n",
    "btr[\"Risky Wealth\"].plot(ax=ax, style=\"--\")"
   ]
  },
  {
   "cell_type": "code",
   "execution_count": 22,
   "metadata": {},
   "outputs": [
    {
     "data": {
      "text/html": [
       "<div>\n",
       "<style scoped>\n",
       "    .dataframe tbody tr th:only-of-type {\n",
       "        vertical-align: middle;\n",
       "    }\n",
       "\n",
       "    .dataframe tbody tr th {\n",
       "        vertical-align: top;\n",
       "    }\n",
       "\n",
       "    .dataframe thead th {\n",
       "        text-align: right;\n",
       "    }\n",
       "</style>\n",
       "<table border=\"1\" class=\"dataframe\">\n",
       "  <thead>\n",
       "    <tr style=\"text-align: right;\">\n",
       "      <th></th>\n",
       "      <th>Annualized Return</th>\n",
       "      <th>Annualized Vol</th>\n",
       "      <th>Sharpe Ratio</th>\n",
       "      <th>Max Drawdown</th>\n",
       "    </tr>\n",
       "  </thead>\n",
       "  <tbody>\n",
       "    <tr>\n",
       "      <td>Steel</td>\n",
       "      <td>-0.039660</td>\n",
       "      <td>0.306407</td>\n",
       "      <td>-0.221642</td>\n",
       "      <td>-0.758017</td>\n",
       "    </tr>\n",
       "    <tr>\n",
       "      <td>Fin</td>\n",
       "      <td>0.027364</td>\n",
       "      <td>0.212204</td>\n",
       "      <td>-0.012370</td>\n",
       "      <td>-0.718465</td>\n",
       "    </tr>\n",
       "    <tr>\n",
       "      <td>Beer</td>\n",
       "      <td>0.111554</td>\n",
       "      <td>0.127971</td>\n",
       "      <td>0.620132</td>\n",
       "      <td>-0.271368</td>\n",
       "    </tr>\n",
       "  </tbody>\n",
       "</table>\n",
       "</div>"
      ],
      "text/plain": [
       "       Annualized Return  Annualized Vol  Sharpe Ratio  Max Drawdown\n",
       "Steel          -0.039660        0.306407     -0.221642     -0.758017\n",
       "Fin             0.027364        0.212204     -0.012370     -0.718465\n",
       "Beer            0.111554        0.127971      0.620132     -0.271368"
      ]
     },
     "execution_count": 22,
     "metadata": {},
     "output_type": "execute_result"
    }
   ],
   "source": [
    "ck.summary_stats(btr[\"Risky Wealth\"].pct_change().dropna())[[\"Annualized Return\", \"Annualized Vol\", \"Sharpe Ratio\", \"Max Drawdown\"]]"
   ]
  },
  {
   "cell_type": "markdown",
   "metadata": {},
   "source": [
    "We can see below, that our Drawdown is less than 25%."
   ]
  },
  {
   "cell_type": "code",
   "execution_count": 23,
   "metadata": {
    "scrolled": true
   },
   "outputs": [
    {
     "data": {
      "text/html": [
       "<div>\n",
       "<style scoped>\n",
       "    .dataframe tbody tr th:only-of-type {\n",
       "        vertical-align: middle;\n",
       "    }\n",
       "\n",
       "    .dataframe tbody tr th {\n",
       "        vertical-align: top;\n",
       "    }\n",
       "\n",
       "    .dataframe thead th {\n",
       "        text-align: right;\n",
       "    }\n",
       "</style>\n",
       "<table border=\"1\" class=\"dataframe\">\n",
       "  <thead>\n",
       "    <tr style=\"text-align: right;\">\n",
       "      <th></th>\n",
       "      <th>Annualized Return</th>\n",
       "      <th>Annualized Vol</th>\n",
       "      <th>Sharpe Ratio</th>\n",
       "      <th>Max Drawdown</th>\n",
       "    </tr>\n",
       "  </thead>\n",
       "  <tbody>\n",
       "    <tr>\n",
       "      <td>Steel</td>\n",
       "      <td>0.003784</td>\n",
       "      <td>0.097073</td>\n",
       "      <td>-0.262958</td>\n",
       "      <td>-0.248059</td>\n",
       "    </tr>\n",
       "    <tr>\n",
       "      <td>Fin</td>\n",
       "      <td>0.041975</td>\n",
       "      <td>0.085028</td>\n",
       "      <td>0.136964</td>\n",
       "      <td>-0.243626</td>\n",
       "    </tr>\n",
       "    <tr>\n",
       "      <td>Beer</td>\n",
       "      <td>0.084375</td>\n",
       "      <td>0.086263</td>\n",
       "      <td>0.613413</td>\n",
       "      <td>-0.161186</td>\n",
       "    </tr>\n",
       "  </tbody>\n",
       "</table>\n",
       "</div>"
      ],
      "text/plain": [
       "       Annualized Return  Annualized Vol  Sharpe Ratio  Max Drawdown\n",
       "Steel           0.003784        0.097073     -0.262958     -0.248059\n",
       "Fin             0.041975        0.085028      0.136964     -0.243626\n",
       "Beer            0.084375        0.086263      0.613413     -0.161186"
      ]
     },
     "execution_count": 23,
     "metadata": {},
     "output_type": "execute_result"
    }
   ],
   "source": [
    "ck.summary_stats(btr[\"Wealth\"].pct_change().dropna())[[\"Annualized Return\", \"Annualized Vol\", \"Sharpe Ratio\", \"Max Drawdown\"]]"
   ]
  },
  {
   "cell_type": "markdown",
   "metadata": {},
   "source": [
    "### Dynamic CPPI on total market returns"
   ]
  },
  {
   "cell_type": "code",
   "execution_count": 24,
   "metadata": {},
   "outputs": [
    {
     "data": {
      "text/plain": [
       "<matplotlib.axes._subplots.AxesSubplot at 0x1a519c3eb00>"
      ]
     },
     "execution_count": 24,
     "metadata": {},
     "output_type": "execute_result"
    },
    {
     "data": {
      "image/png": "[encoded data removed]",
      "text/plain": [
       "<Figure size 864x360 with 1 Axes>"
      ]
     },
     "metadata": {
      "needs_background": "light"
     },
     "output_type": "display_data"
    }
   ],
   "source": [
    "btr = ck.run_cppi(tmi_return[\"1999\":], drawdown=0.25)\n",
    "ax = btr[\"Wealth\"].plot(figsize=(12,5), legend = False)\n",
    "btr[\"Risky Wealth\"].plot(ax=ax, style=\"--\", legend = False)"
   ]
  },
  {
   "cell_type": "markdown",
   "metadata": {},
   "source": [
    "We can see from the plot above, after implementing CPPI strategy (blue line), we were able to reduce variance and downside risk.\n",
    "\n",
    "---\n",
    "\n",
    "Although by implementing insurance strategy we lowered our upside - annualized return dropped from 6.1% to 5.2%, but on the same time we were able to drop volatility by almost 2 times, which resulted to a much higher Sharpe Ratio."
   ]
  },
  {
   "cell_type": "code",
   "execution_count": 25,
   "metadata": {},
   "outputs": [
    {
     "data": {
      "text/html": [
       "<div>\n",
       "<style scoped>\n",
       "    .dataframe tbody tr th:only-of-type {\n",
       "        vertical-align: middle;\n",
       "    }\n",
       "\n",
       "    .dataframe tbody tr th {\n",
       "        vertical-align: top;\n",
       "    }\n",
       "\n",
       "    .dataframe thead th {\n",
       "        text-align: right;\n",
       "    }\n",
       "</style>\n",
       "<table border=\"1\" class=\"dataframe\">\n",
       "  <thead>\n",
       "    <tr style=\"text-align: right;\">\n",
       "      <th></th>\n",
       "      <th>Annualized Return</th>\n",
       "      <th>Annualized Vol</th>\n",
       "      <th>Sharpe Ratio</th>\n",
       "      <th>Max Drawdown</th>\n",
       "    </tr>\n",
       "  </thead>\n",
       "  <tbody>\n",
       "    <tr>\n",
       "      <td>R</td>\n",
       "      <td>0.052391</td>\n",
       "      <td>0.078951</td>\n",
       "      <td>0.275935</td>\n",
       "      <td>-0.220824</td>\n",
       "    </tr>\n",
       "  </tbody>\n",
       "</table>\n",
       "</div>"
      ],
      "text/plain": [
       "   Annualized Return  Annualized Vol  Sharpe Ratio  Max Drawdown\n",
       "R           0.052391        0.078951      0.275935     -0.220824"
      ]
     },
     "execution_count": 25,
     "metadata": {},
     "output_type": "execute_result"
    }
   ],
   "source": [
    "ck.summary_stats(btr[\"Wealth\"].pct_change().dropna())[[\"Annualized Return\", \"Annualized Vol\", \"Sharpe Ratio\", \"Max Drawdown\"]]"
   ]
  },
  {
   "cell_type": "code",
   "execution_count": 26,
   "metadata": {},
   "outputs": [
    {
     "data": {
      "text/html": [
       "<div>\n",
       "<style scoped>\n",
       "    .dataframe tbody tr th:only-of-type {\n",
       "        vertical-align: middle;\n",
       "    }\n",
       "\n",
       "    .dataframe tbody tr th {\n",
       "        vertical-align: top;\n",
       "    }\n",
       "\n",
       "    .dataframe thead th {\n",
       "        text-align: right;\n",
       "    }\n",
       "</style>\n",
       "<table border=\"1\" class=\"dataframe\">\n",
       "  <thead>\n",
       "    <tr style=\"text-align: right;\">\n",
       "      <th></th>\n",
       "      <th>Annualized Return</th>\n",
       "      <th>Annualized Vol</th>\n",
       "      <th>Sharpe Ratio</th>\n",
       "      <th>Max Drawdown</th>\n",
       "    </tr>\n",
       "  </thead>\n",
       "  <tbody>\n",
       "    <tr>\n",
       "      <td>R</td>\n",
       "      <td>0.06137</td>\n",
       "      <td>0.148571</td>\n",
       "      <td>0.205314</td>\n",
       "      <td>-0.499943</td>\n",
       "    </tr>\n",
       "  </tbody>\n",
       "</table>\n",
       "</div>"
      ],
      "text/plain": [
       "   Annualized Return  Annualized Vol  Sharpe Ratio  Max Drawdown\n",
       "R            0.06137        0.148571      0.205314     -0.499943"
      ]
     },
     "execution_count": 26,
     "metadata": {},
     "output_type": "execute_result"
    }
   ],
   "source": [
    "ck.summary_stats(btr[\"Risky Wealth\"].pct_change().dropna())[[\"Annualized Return\", \"Annualized Vol\", \"Sharpe Ratio\", \"Max Drawdown\"]]"
   ]
  }
 ],
 "metadata": {
  "kernelspec": {
   "display_name": "Python 3",
   "language": "python",
   "name": "python3"
  },
  "language_info": {
   "codemirror_mode": {
    "name": "ipython",
    "version": 3
   },
   "file_extension": ".py",
   "mimetype": "text/x-python",
   "name": "python",
   "nbconvert_exporter": "python",
   "pygments_lexer": "ipython3",
   "version": "3.7.1"
  },
  "toc": {
   "base_numbering": 1,
   "nav_menu": {},
   "number_sections": true,
   "sideBar": true,
   "skip_h1_title": true,
   "title_cell": "Table of Contents",
   "title_sidebar": "Contents",
   "toc_cell": true,
   "toc_position": {},
   "toc_section_display": true,
   "toc_window_display": true
  },
  "varInspector": {
   "cols": {
    "lenName": 16,
    "lenType": 16,
    "lenVar": 40
   },
   "kernels_config": {
    "python": {
     "delete_cmd_postfix": "",
     "delete_cmd_prefix": "del ",
     "library": "var_list.py",
     "varRefreshCmd": "print(var_dic_list())"
    },
    "r": {
     "delete_cmd_postfix": ") ",
     "delete_cmd_prefix": "rm(",
     "library": "var_list.r",
     "varRefreshCmd": "cat(var_dic_list()) "
    }
   },
   "types_to_exclude": [
    "module",
    "function",
    "builtin_function_or_method",
    "instance",
    "_Feature"
   ],
   "window_display": false
  }
 },
 "nbformat": 4,
 "nbformat_minor": 2
}
